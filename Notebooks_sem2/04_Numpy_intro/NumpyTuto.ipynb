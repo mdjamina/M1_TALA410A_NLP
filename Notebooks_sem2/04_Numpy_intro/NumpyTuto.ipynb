{
  "cells": [
    {
      "cell_type": "markdown",
      "metadata": {
        "id": "view-in-github",
        "colab_type": "text"
      },
      "source": [
        "<a href=\"https://colab.research.google.com/github/mdjamina/M1_TALA410A_NLP/blob/main/Notebooks_sem2/04_Numpy_intro/NumpyTuto.ipynb\" target=\"_parent\"><img src=\"https://colab.research.google.com/assets/colab-badge.svg\" alt=\"Open In Colab\"/></a>"
      ]
    },
    {
      "cell_type": "markdown",
      "id": "6e2d923c-30c9-40bd-a15b-2cf72d3cf305",
      "metadata": {
        "id": "6e2d923c-30c9-40bd-a15b-2cf72d3cf305"
      },
      "source": [
        "Notebook in very large part from Sebastian Raschka's STAT 451 class. See his [github repo](https://github.com/rasbt/stat451-machine-learning-fs20) and [course website](http://pages.stat.wisc.edu/~sraschka/teaching/stat451-fs2020/)"
      ]
    },
    {
      "cell_type": "markdown",
      "id": "09cebd9e-be5e-4da1-a825-619a5ba14406",
      "metadata": {
        "jp-MarkdownHeadingCollapsed": true,
        "tags": [],
        "id": "09cebd9e-be5e-4da1-a825-619a5ba14406"
      },
      "source": [
        "---\n",
        "\n",
        "### 1. NumPy Basics\n",
        "\n",
        "---"
      ]
    },
    {
      "cell_type": "markdown",
      "id": "c4924985-bf2c-4bdc-bdbe-cb17d1c98b4d",
      "metadata": {
        "id": "c4924985-bf2c-4bdc-bdbe-cb17d1c98b4d"
      },
      "source": [
        "---\n",
        "\n",
        "NumPy is the base of the scientific Python computing ecosystem\n",
        "\n",
        "<img src=\"https://github.com/armandstrickernlp/NLP_Inalco/blob/main/Semester2/Notebooks_sem2/04_Numpy_intro/images/numpy-intro/numpy-nature-1.png?raw=1\" alt=\"Drawing\" style=\"width: 600px;\"/>\n",
        "\n",
        "Image Source:  Harris, C.R., Millman, K.J., van der Walt, S.J., Gommers, R., Virtanen, P., Cournapeau, D., Wieser, E., Taylor, J., Berg, S., Smith, N.J. and Kern, R., 2020 [Array Programming with NumPy](https://www.nature.com/articles/s41586-020-2649-2). Nature 585, 357–362 (2020). \n",
        "\n",
        "---"
      ]
    },
    {
      "cell_type": "markdown",
      "id": "b13c0fbc-c824-4ddb-8c06-229480e3814a",
      "metadata": {
        "id": "b13c0fbc-c824-4ddb-8c06-229480e3814a"
      },
      "source": [
        "### Motivation: NumPy is fast!"
      ]
    },
    {
      "cell_type": "markdown",
      "id": "5d6b7f65-f9bb-4513-aac0-60d6efbf161c",
      "metadata": {
        "id": "5d6b7f65-f9bb-4513-aac0-60d6efbf161c"
      },
      "source": [
        "To provide you with some motivation why learning about and using NumPy is useful, take a look at the speed comparison computing a vector dot product in Python (using lists) versus NumPy (the details will become clear later)."
      ]
    },
    {
      "cell_type": "markdown",
      "id": "684a3bd3-c330-46ec-bb0c-300c3bebd6c9",
      "metadata": {
        "id": "684a3bd3-c330-46ec-bb0c-300c3bebd6c9"
      },
      "source": [
        "$$\n",
        "z = \\mathbf{x}^\\top \\mathbf{w} = \\sum_i x_i w_i = x_1 \\times w_1 + x_2 \\times w_2 + ... + x_n \\times w_n\n",
        "$$"
      ]
    },
    {
      "cell_type": "code",
      "execution_count": null,
      "id": "03dd6162-3a2e-480b-b6a1-477aeed06490",
      "metadata": {
        "id": "03dd6162-3a2e-480b-b6a1-477aeed06490"
      },
      "outputs": [],
      "source": [
        "# TODO\n",
        "# Implement a function that outputs the dot product using a for loop :\n",
        "def loop_approach(x,w) :\n",
        "    ..."
      ]
    },
    {
      "cell_type": "code",
      "execution_count": null,
      "id": "44835e8c-57b5-4e23-9226-c1a29e5baf42",
      "metadata": {
        "id": "44835e8c-57b5-4e23-9226-c1a29e5baf42",
        "outputId": "36012f5a-b962-4ee9-fca6-d0ca940350bf"
      },
      "outputs": [
        {
          "name": "stdout",
          "output_type": "stream",
          "text": [
            "181 µs ± 8.23 µs per loop (mean ± std. dev. of 7 runs, 10,000 loops each)\n"
          ]
        }
      ],
      "source": [
        "big_vectorA = list(range(1000))\n",
        "big_vectorB = list(range(1000))\n",
        "\n",
        "%timeit loop_approach(big_vectorA,big_vectorB)"
      ]
    },
    {
      "cell_type": "code",
      "execution_count": null,
      "id": "90a420d6-a026-482b-846a-2cb872b5d43d",
      "metadata": {
        "id": "90a420d6-a026-482b-846a-2cb872b5d43d",
        "outputId": "a6e5c2cb-5152-4121-ff8f-54768166c4f3"
      },
      "outputs": [
        {
          "name": "stdout",
          "output_type": "stream",
          "text": [
            "32.0\n"
          ]
        }
      ],
      "source": [
        "import numpy as np\n",
        "\n",
        "def numpy_dotproduct_approach(x, w):\n",
        "    return x.dot(w)\n",
        "\n",
        "a = np.array([1., 2., 3.])\n",
        "b = np.array([4., 5., 6.])\n",
        "\n",
        "print(numpy_dotproduct_approach(a, b))"
      ]
    },
    {
      "cell_type": "code",
      "execution_count": null,
      "id": "0f4c7325-01ab-4d18-b336-1db550bc4ffa",
      "metadata": {
        "id": "0f4c7325-01ab-4d18-b336-1db550bc4ffa",
        "outputId": "e72dafed-d2a3-4bad-d8fd-240142dac7a3"
      },
      "outputs": [
        {
          "name": "stdout",
          "output_type": "stream",
          "text": [
            "2.11 µs ± 94.1 ns per loop (mean ± std. dev. of 7 runs, 1,000,000 loops each)\n"
          ]
        }
      ],
      "source": [
        "large_a = np.arange(1000)\n",
        "large_b = np.arange(1000)\n",
        "\n",
        "%timeit numpy_dotproduct_approach(large_a, large_b)"
      ]
    },
    {
      "cell_type": "markdown",
      "id": "f4077534-0e98-4bb1-872f-9886925072b1",
      "metadata": {
        "id": "f4077534-0e98-4bb1-872f-9886925072b1"
      },
      "source": [
        "### N-dimensional Arrays"
      ]
    },
    {
      "cell_type": "markdown",
      "id": "227a3167-078b-4743-9b82-e0d5b05522a4",
      "metadata": {
        "id": "227a3167-078b-4743-9b82-e0d5b05522a4"
      },
      "source": [
        "* we can think of a one-dimensional NumPy array as a data structure to represent a vector of elements -- you may think of it as a fixed-size Python list where all elements share the same type. \n",
        "* Similarly, we can think of a two-dimensional array as a data structure to represent a matrix or a Python list of lists."
      ]
    },
    {
      "cell_type": "code",
      "execution_count": null,
      "id": "c2cc168a-014a-497a-bb8d-46735bff2526",
      "metadata": {
        "id": "c2cc168a-014a-497a-bb8d-46735bff2526",
        "outputId": "71aa02d3-ee59-4cbb-8a9e-90a76825ab6f"
      },
      "outputs": [
        {
          "data": {
            "text/plain": [
              "array([[1, 2, 3],\n",
              "       [4, 5, 6]])"
            ]
          },
          "execution_count": 8,
          "metadata": {},
          "output_type": "execute_result"
        }
      ],
      "source": [
        "import numpy as np\n",
        "\n",
        "\n",
        "lst = [[1, 2, 3], [4, 5, 6]]\n",
        "ary2d = np.array(lst)\n",
        "ary2d"
      ]
    },
    {
      "cell_type": "markdown",
      "id": "88da48e6-9ba6-408a-b61c-1d02e4666e1c",
      "metadata": {
        "id": "88da48e6-9ba6-408a-b61c-1d02e4666e1c"
      },
      "source": [
        "<img src=\"https://github.com/armandstrickernlp/NLP_Inalco/blob/main/Semester2/Notebooks_sem2/04_Numpy_intro/images/numpy-intro/array_1.png?raw=1\" alt=\"Drawing\" style=\"width: 300px;\"/>"
      ]
    },
    {
      "cell_type": "markdown",
      "id": "afc3460f-72c1-4f65-a6d0-f828759d0785",
      "metadata": {
        "id": "afc3460f-72c1-4f65-a6d0-f828759d0785"
      },
      "source": [
        "The `shape` is always a tuple; in the code example above, the two-dimensional object has two *rows* and *three* columns, `(2, 3)`, if we think of it as a matrix representation."
      ]
    },
    {
      "cell_type": "code",
      "execution_count": null,
      "id": "3b5bb428-5fd9-41fa-bca5-ba3f6f8b4136",
      "metadata": {
        "id": "3b5bb428-5fd9-41fa-bca5-ba3f6f8b4136",
        "outputId": "d9f325a2-1316-42a9-a56e-4e392c9315e7"
      },
      "outputs": [
        {
          "data": {
            "text/plain": [
              "(2, 3)"
            ]
          },
          "execution_count": 9,
          "metadata": {},
          "output_type": "execute_result"
        }
      ],
      "source": [
        "ary2d.shape"
      ]
    },
    {
      "cell_type": "markdown",
      "id": "4dc2bada-bd37-4b49-bd94-62e957eb8600",
      "metadata": {
        "id": "4dc2bada-bd37-4b49-bd94-62e957eb8600"
      },
      "source": [
        "To return the number of elements in an array, we can use the `size` attribute, as shown below:"
      ]
    },
    {
      "cell_type": "code",
      "execution_count": null,
      "id": "092f1e90-c0de-423c-918e-538b651da73e",
      "metadata": {
        "tags": [],
        "id": "092f1e90-c0de-423c-918e-538b651da73e",
        "outputId": "38aef99b-a139-48b1-f128-847faa520673"
      },
      "outputs": [
        {
          "data": {
            "text/plain": [
              "6"
            ]
          },
          "execution_count": 10,
          "metadata": {},
          "output_type": "execute_result"
        }
      ],
      "source": [
        "ary2d.size"
      ]
    },
    {
      "cell_type": "markdown",
      "id": "87945a6f-94b6-4262-b603-0a0f4f6a8478",
      "metadata": {
        "id": "87945a6f-94b6-4262-b603-0a0f4f6a8478"
      },
      "source": [
        "---\n",
        "\n",
        "### 2. NumPy Array Construction and Indexing\n",
        "\n",
        "---"
      ]
    },
    {
      "cell_type": "code",
      "execution_count": null,
      "id": "8ce3d603-113e-4711-8024-48bb4c6b4fd9",
      "metadata": {
        "id": "8ce3d603-113e-4711-8024-48bb4c6b4fd9",
        "outputId": "86afe72f-2862-4702-8cb3-e75d677bc651"
      },
      "outputs": [
        {
          "data": {
            "text/plain": [
              "array([[1., 1., 1.],\n",
              "       [1., 1., 1.],\n",
              "       [1., 1., 1.]])"
            ]
          },
          "execution_count": 11,
          "metadata": {},
          "output_type": "execute_result"
        }
      ],
      "source": [
        "np.ones((3, 3))"
      ]
    },
    {
      "cell_type": "code",
      "execution_count": null,
      "id": "794d18b3-5631-4dc9-b0f5-f40d8bd5140a",
      "metadata": {
        "id": "794d18b3-5631-4dc9-b0f5-f40d8bd5140a",
        "outputId": "2dec56b3-bfd6-454b-8068-10603603071d"
      },
      "outputs": [
        {
          "data": {
            "text/plain": [
              "array([[0., 0., 0.],\n",
              "       [0., 0., 0.],\n",
              "       [0., 0., 0.]])"
            ]
          },
          "execution_count": 12,
          "metadata": {},
          "output_type": "execute_result"
        }
      ],
      "source": [
        "np.zeros((3, 3))"
      ]
    },
    {
      "cell_type": "markdown",
      "id": "a6e47482-e1c6-469e-ad61-a11be9a12c05",
      "metadata": {
        "id": "a6e47482-e1c6-469e-ad61-a11be9a12c05"
      },
      "source": [
        "A very useful function for creating sequences of numbers within a specified range   \n",
        "NumPy's `arange` function follows the same syntax as Python's `range` objects.  If two arguments are provided, the first argument represents the start value and the second value defines the stop value."
      ]
    },
    {
      "cell_type": "code",
      "execution_count": null,
      "id": "1ee7a6c0-eab6-4758-a347-c600a9022ccd",
      "metadata": {
        "id": "1ee7a6c0-eab6-4758-a347-c600a9022ccd",
        "outputId": "ea0ec8cd-bb74-4868-d895-2f61587d1ab9"
      },
      "outputs": [
        {
          "data": {
            "text/plain": [
              "array([4., 5., 6., 7., 8., 9.])"
            ]
          },
          "execution_count": 13,
          "metadata": {},
          "output_type": "execute_result"
        }
      ],
      "source": [
        "np.arange(4., 10.)"
      ]
    },
    {
      "cell_type": "code",
      "execution_count": null,
      "id": "69dc3537-aa37-4bd7-90e6-b91434c97e29",
      "metadata": {
        "id": "69dc3537-aa37-4bd7-90e6-b91434c97e29",
        "outputId": "4384fffe-6f55-4d1f-b224-86b7c96c0cf6"
      },
      "outputs": [
        {
          "data": {
            "text/plain": [
              "array([0, 1, 2, 3, 4])"
            ]
          },
          "execution_count": 14,
          "metadata": {},
          "output_type": "execute_result"
        }
      ],
      "source": [
        "np.arange(5)"
      ]
    },
    {
      "cell_type": "code",
      "execution_count": null,
      "id": "222932a2-db04-426b-9e2d-d0c516341f55",
      "metadata": {
        "id": "222932a2-db04-426b-9e2d-d0c516341f55",
        "outputId": "a757ab4e-c5ac-48d4-8244-35c02c8bd843"
      },
      "outputs": [
        {
          "data": {
            "text/plain": [
              "array([1., 3., 5., 7., 9.])"
            ]
          },
          "execution_count": 4,
          "metadata": {},
          "output_type": "execute_result"
        }
      ],
      "source": [
        "np.arange(1., 10., 2) # with interval"
      ]
    },
    {
      "cell_type": "markdown",
      "id": "1523e344-8b46-4af2-b128-6667b3b8fdb5",
      "metadata": {
        "id": "1523e344-8b46-4af2-b128-6667b3b8fdb5"
      },
      "source": [
        "### Array Indexing"
      ]
    },
    {
      "cell_type": "markdown",
      "id": "c2471a86-4778-4d20-9310-71658cc072a6",
      "metadata": {
        "id": "c2471a86-4778-4d20-9310-71658cc072a6"
      },
      "source": [
        "Simple NumPy indexing and slicing works similar to Python lists"
      ]
    },
    {
      "cell_type": "code",
      "execution_count": null,
      "id": "0e53d8bb-d38e-4781-b685-72a14f6cc799",
      "metadata": {
        "id": "0e53d8bb-d38e-4781-b685-72a14f6cc799",
        "outputId": "e23bf4ae-7541-43e6-efc9-48b1a78f8fd9"
      },
      "outputs": [
        {
          "data": {
            "text/plain": [
              "1"
            ]
          },
          "execution_count": 16,
          "metadata": {},
          "output_type": "execute_result"
        }
      ],
      "source": [
        "ary = np.array([1, 2, 3])\n",
        "ary[0]"
      ]
    },
    {
      "cell_type": "code",
      "execution_count": null,
      "id": "9db752ae-c32b-4d6e-9454-2f59bfc9500f",
      "metadata": {
        "id": "9db752ae-c32b-4d6e-9454-2f59bfc9500f",
        "outputId": "0de52bd1-1fa4-4e92-9468-b6935cc75926"
      },
      "outputs": [
        {
          "data": {
            "text/plain": [
              "array([1, 2])"
            ]
          },
          "execution_count": 17,
          "metadata": {},
          "output_type": "execute_result"
        }
      ],
      "source": [
        "ary[:2]"
      ]
    },
    {
      "cell_type": "code",
      "execution_count": null,
      "id": "4f4733ef-b0ac-45b8-9093-d54c7db02508",
      "metadata": {
        "id": "4f4733ef-b0ac-45b8-9093-d54c7db02508"
      },
      "outputs": [],
      "source": [
        "ary = np.array([[1, 2, 3],\n",
        "                [4, 5, 6]])\n",
        "\n",
        "#ary[0, 0] # guess where"
      ]
    },
    {
      "cell_type": "code",
      "execution_count": null,
      "id": "ff587864-28da-4446-b42c-ef1dbf1a5fc9",
      "metadata": {
        "id": "ff587864-28da-4446-b42c-ef1dbf1a5fc9"
      },
      "outputs": [],
      "source": [
        "#ary[-1, -1] # guess where"
      ]
    },
    {
      "cell_type": "code",
      "execution_count": null,
      "id": "afc49a65-b0fd-44ae-9311-28858235442d",
      "metadata": {
        "id": "afc49a65-b0fd-44ae-9311-28858235442d"
      },
      "outputs": [],
      "source": [
        "#ary[0, 1] # guess where"
      ]
    },
    {
      "cell_type": "markdown",
      "id": "9e8dfe9f-3f9a-4c58-8465-7ecc2ad2e176",
      "metadata": {
        "id": "9e8dfe9f-3f9a-4c58-8465-7ecc2ad2e176"
      },
      "source": [
        "<img src=\"https://github.com/armandstrickernlp/NLP_Inalco/blob/main/Semester2/Notebooks_sem2/04_Numpy_intro/images/numpy-intro/array_2.png?raw=1\" alt=\"Drawing\" style=\"width: 300px;\"/>"
      ]
    },
    {
      "cell_type": "code",
      "execution_count": null,
      "id": "7a5eccb8-9510-492f-9898-a766a0581539",
      "metadata": {
        "id": "7a5eccb8-9510-492f-9898-a766a0581539"
      },
      "outputs": [],
      "source": [
        "#ary[0] "
      ]
    },
    {
      "cell_type": "code",
      "execution_count": null,
      "id": "94d87c0f-1ca7-4a97-9623-9f10ad7e475c",
      "metadata": {
        "id": "94d87c0f-1ca7-4a97-9623-9f10ad7e475c"
      },
      "outputs": [],
      "source": [
        "#ary[:, 0] "
      ]
    },
    {
      "cell_type": "code",
      "execution_count": null,
      "id": "cfd2b989-d19b-4e7b-841b-8798b3a9755a",
      "metadata": {
        "id": "cfd2b989-d19b-4e7b-841b-8798b3a9755a"
      },
      "outputs": [],
      "source": [
        "#ary[:, :2] "
      ]
    },
    {
      "cell_type": "markdown",
      "id": "0a4338ca-1bfa-41af-806d-1a61cda44e2e",
      "metadata": {
        "id": "0a4338ca-1bfa-41af-806d-1a61cda44e2e"
      },
      "source": [
        "---\n",
        "\n",
        "### 3. NumPy Array Math and Universal Functions\n",
        "\n",
        "---"
      ]
    },
    {
      "cell_type": "markdown",
      "id": "97b83428-75b6-4a6f-a2f6-a2bd3474b0c6",
      "metadata": {
        "id": "97b83428-75b6-4a6f-a2f6-a2bd3474b0c6"
      },
      "source": [
        "So why is numpy so useful ? Vectorization.  \n",
        "\n",
        "While we typically use for-loops if we want to perform arithmetic operations on sequence-like objects, NumPy provides vectorized wrappers for performing element-wise operations implicitly via *ufuncs* -- short for universal functions.  \n",
        "\n",
        "Ufuncs are implemented in compiled C code and very fast and efficient compared to vanilla Python\n"
      ]
    },
    {
      "cell_type": "code",
      "execution_count": null,
      "id": "b810fb65-1fdd-42b4-a2c6-d3b67d445850",
      "metadata": {
        "id": "b810fb65-1fdd-42b4-a2c6-d3b67d445850",
        "outputId": "26ca23e7-060c-4080-eee3-efd6ea1f0422"
      },
      "outputs": [
        {
          "data": {
            "text/plain": [
              "[[2, 3, 4], [5, 6, 7]]"
            ]
          },
          "execution_count": 24,
          "metadata": {},
          "output_type": "execute_result"
        }
      ],
      "source": [
        "lst = [[1, 2, 3], [4, 5, 6]]\n",
        "\n",
        "for row_idx, row_val in enumerate(lst):\n",
        "    for col_idx, col_val in enumerate(row_val):\n",
        "        lst[row_idx][col_idx] += 1\n",
        "lst"
      ]
    },
    {
      "cell_type": "code",
      "execution_count": null,
      "id": "930a808e-b02d-4c37-9676-3bf7ea8487a6",
      "metadata": {
        "id": "930a808e-b02d-4c37-9676-3bf7ea8487a6",
        "outputId": "e74d8c77-e030-4d7b-aa6f-5f967e847c35"
      },
      "outputs": [
        {
          "data": {
            "text/plain": [
              "array([[2, 3, 4],\n",
              "       [5, 6, 7]])"
            ]
          },
          "execution_count": 25,
          "metadata": {},
          "output_type": "execute_result"
        }
      ],
      "source": [
        "ary = np.array([[1, 2, 3], [4, 5, 6]])\n",
        "ary = np.add(ary, 1)\n",
        "ary"
      ]
    },
    {
      "cell_type": "markdown",
      "id": "32e1c34d-58a4-4c8e-9534-b5bb8c1157a8",
      "metadata": {
        "id": "32e1c34d-58a4-4c8e-9534-b5bb8c1157a8"
      },
      "source": [
        "The ufuncs for basic arithmetic operations are `add`, `subtract`, `divide`, `multiply`, and `exp` (exponential). However, NumPy uses operator overloading so that we can use mathematical operators (`+`, `-`, `/`, `*`, and `**`) directly:"
      ]
    },
    {
      "cell_type": "code",
      "execution_count": null,
      "id": "10997186-02b8-4442-8d73-4bd1950a45e5",
      "metadata": {
        "id": "10997186-02b8-4442-8d73-4bd1950a45e5",
        "outputId": "fab4c7c9-4bdb-40d7-bc2f-789ddb2a1899"
      },
      "outputs": [
        {
          "data": {
            "text/plain": [
              "array([[3, 4, 5],\n",
              "       [6, 7, 8]])"
            ]
          },
          "execution_count": 26,
          "metadata": {},
          "output_type": "execute_result"
        }
      ],
      "source": [
        "ary + 1"
      ]
    },
    {
      "cell_type": "code",
      "execution_count": null,
      "id": "2a99a0c7-c970-4e7a-bb85-2e3db6d4d779",
      "metadata": {
        "id": "2a99a0c7-c970-4e7a-bb85-2e3db6d4d779",
        "outputId": "1b95f61a-86c6-4de3-fea7-e6369cdcaa81"
      },
      "outputs": [
        {
          "data": {
            "text/plain": [
              "array([[ 4,  9, 16],\n",
              "       [25, 36, 49]])"
            ]
          },
          "execution_count": 27,
          "metadata": {},
          "output_type": "execute_result"
        }
      ],
      "source": [
        "ary**2"
      ]
    },
    {
      "cell_type": "markdown",
      "id": "801b23bf-88a2-4aa0-b6b4-778b269f9b1f",
      "metadata": {
        "id": "801b23bf-88a2-4aa0-b6b4-778b269f9b1f"
      },
      "source": [
        "Often, we want to compute the sum or product of an array element along a given axis. For this purpose, we can use a ufunc's `reduce` operation. By default, `reduce` applies an operation along the first axis (`axis=0`). In the case of a two-dimensional array, we can think of the first axis as the rows of a matrix. Thus, adding up elements along rows yields the column sums of that matrix as shown below:"
      ]
    },
    {
      "cell_type": "code",
      "execution_count": null,
      "id": "45d3fc9e-4bdd-4e15-a631-bd023398fbce",
      "metadata": {
        "id": "45d3fc9e-4bdd-4e15-a631-bd023398fbce",
        "outputId": "a7098427-aaa3-482b-8942-6ba123661db4"
      },
      "outputs": [
        {
          "data": {
            "text/plain": [
              "array([ 6, 15])"
            ]
          },
          "execution_count": 19,
          "metadata": {},
          "output_type": "execute_result"
        }
      ],
      "source": [
        "ary = np.array([[1, 2, 3], [4, 5, 6]])\n",
        "np.add.reduce(ary, axis=1)"
      ]
    },
    {
      "cell_type": "markdown",
      "id": "06ab8cb7-7d96-47b1-b217-1ab69e829c9e",
      "metadata": {
        "id": "06ab8cb7-7d96-47b1-b217-1ab69e829c9e"
      },
      "source": [
        "While it can be more intuitive to use `reduce` as a more general operation, NumPy also provides shorthands for specific operations such as `product` and `sum`. For example, `sum(axis=0)` is equivalent to `add.reduce`:"
      ]
    },
    {
      "cell_type": "code",
      "execution_count": null,
      "id": "19494720-86eb-47ae-88bf-5fd75a299bcb",
      "metadata": {
        "id": "19494720-86eb-47ae-88bf-5fd75a299bcb",
        "outputId": "f861141c-520b-4545-94e7-86c779d3449b"
      },
      "outputs": [
        {
          "data": {
            "text/plain": [
              "array([5, 7, 9])"
            ]
          },
          "execution_count": 20,
          "metadata": {},
          "output_type": "execute_result"
        }
      ],
      "source": [
        "ary.sum(axis=0)"
      ]
    },
    {
      "cell_type": "markdown",
      "id": "c2fac5ca-56c2-42d9-afe9-412c483ef323",
      "metadata": {
        "id": "c2fac5ca-56c2-42d9-afe9-412c483ef323"
      },
      "source": [
        "<img src=\"https://github.com/armandstrickernlp/NLP_Inalco/blob/main/Semester2/Notebooks_sem2/04_Numpy_intro/images/numpy-intro/ufunc.png?raw=1\" alt=\"Drawing\" style=\"width: 600px;\"/>"
      ]
    },
    {
      "cell_type": "markdown",
      "id": "c82dd0a9-1c3b-4499-9ef3-a855e6ba818a",
      "metadata": {
        "id": "c82dd0a9-1c3b-4499-9ef3-a855e6ba818a"
      },
      "source": [
        "Other useful unary ufuncs are:\n",
        "    \n",
        "- `np.mean` (computes arithmetic average)\n",
        "- `np.std` (computes the standard deviation)\n",
        "- `np.var` (computes variance)\n",
        "- `np.sort` (sorts an array)\n",
        "- `np.argsort` (returns indices that would sort an array)\n",
        "- `np.min` (returns the minimum value of an array)\n",
        "- `np.max` (returns the maximum value of an array)\n",
        "- `np.argmin` (returns the index of the minimum value)\n",
        "- `np.argmax` (returns the index of the maximum value)\n",
        "- `np.array_equal` (checks if two arrays have the same shape and elements)"
      ]
    },
    {
      "cell_type": "markdown",
      "id": "207aa790-41ae-4f82-ac2a-13f8d3880b05",
      "metadata": {
        "id": "207aa790-41ae-4f82-ac2a-13f8d3880b05"
      },
      "source": [
        "---\n",
        "\n",
        "### 4. NumPy Broadcasting\n",
        "\n",
        "---"
      ]
    },
    {
      "cell_type": "markdown",
      "id": "7aab5951-537a-49c6-83ee-552ffe02fbc6",
      "metadata": {
        "id": "7aab5951-537a-49c6-83ee-552ffe02fbc6"
      },
      "source": [
        "Broadcasting allows us to perform vectorized operations between two arrays even if their dimensions do not match by creating implicit multidimensional grids.  \n",
        "\n",
        "<img src=\"https://github.com/armandstrickernlp/NLP_Inalco/blob/main/Semester2/Notebooks_sem2/04_Numpy_intro/images/numpy-intro/broadcasting-1.png?raw=1\" alt=\"Drawing\" style=\"width: 500px;\"/>\n"
      ]
    },
    {
      "cell_type": "code",
      "execution_count": null,
      "id": "91db0351-9b63-45c7-95b5-aaf279a02761",
      "metadata": {
        "id": "91db0351-9b63-45c7-95b5-aaf279a02761",
        "outputId": "a20c8eb7-3639-45fe-f7b1-9714b525f62b"
      },
      "outputs": [
        {
          "data": {
            "text/plain": [
              "array([2, 3, 4])"
            ]
          },
          "execution_count": 22,
          "metadata": {},
          "output_type": "execute_result"
        }
      ],
      "source": [
        "ary1 = np.array([1, 2, 3]) + 1 \n",
        "ary1"
      ]
    },
    {
      "cell_type": "markdown",
      "id": "8f5fff31-8d46-4a0f-aa1d-53dba904bace",
      "metadata": {
        "id": "8f5fff31-8d46-4a0f-aa1d-53dba904bace"
      },
      "source": [
        "In contrast to what we are used to in linear algebra, we can also add arrays of different shapes. In the example above, we will add a one-dimensional to a two-dimensional array, where NumPy creates an implicit multidimensional grid from the one-dimensional array `ary1`:"
      ]
    },
    {
      "cell_type": "code",
      "execution_count": null,
      "id": "f6e8eeae-486a-4523-adfa-07a8f0b3870d",
      "metadata": {
        "id": "f6e8eeae-486a-4523-adfa-07a8f0b3870d",
        "outputId": "6d8f9181-c7c5-49ad-c6ba-e1344961b648"
      },
      "outputs": [
        {
          "data": {
            "text/plain": [
              "array([[ 6,  8, 10],\n",
              "       [ 9, 11, 13]])"
            ]
          },
          "execution_count": 23,
          "metadata": {},
          "output_type": "execute_result"
        }
      ],
      "source": [
        "ary2 = np.array([[4, 5, 6], \n",
        "                 [7, 8, 9]])\n",
        "\n",
        "ary2 + ary1"
      ]
    },
    {
      "cell_type": "markdown",
      "id": "a87020be-9ec5-4d28-97bf-725ac0a3a41e",
      "metadata": {
        "id": "a87020be-9ec5-4d28-97bf-725ac0a3a41e"
      },
      "source": [
        "<img src=\"https://github.com/armandstrickernlp/NLP_Inalco/blob/main/Semester2/Notebooks_sem2/04_Numpy_intro/images/numpy-intro/broadcasting-2.png?raw=1\" alt=\"Drawing\" style=\"width: 500px;\"/>"
      ]
    },
    {
      "cell_type": "markdown",
      "id": "6de282df-ebf9-4b99-8757-a44d9da04356",
      "metadata": {
        "id": "6de282df-ebf9-4b99-8757-a44d9da04356"
      },
      "source": [
        "---\n",
        "\n",
        "### 5. Views vs. copies\n",
        "\n",
        "___"
      ]
    },
    {
      "cell_type": "markdown",
      "id": "a52317ce-d6e5-40b0-b85a-7d64a186df6f",
      "metadata": {
        "id": "a52317ce-d6e5-40b0-b85a-7d64a186df6f"
      },
      "source": [
        "Slicing and indexing yields a *view* of the original array.  This takes up less memory and can be desirable, but be aware that any change you make to the view will modify the original array and vice-versa..."
      ]
    },
    {
      "cell_type": "code",
      "execution_count": null,
      "id": "05022101-4205-4522-a247-1e47f4f292d1",
      "metadata": {
        "id": "05022101-4205-4522-a247-1e47f4f292d1",
        "outputId": "271a0e49-065e-4fa6-8fe1-5d25de5ce194"
      },
      "outputs": [
        {
          "data": {
            "text/plain": [
              "array([[100, 101, 102],\n",
              "       [  4,   5,   6]])"
            ]
          },
          "execution_count": 32,
          "metadata": {},
          "output_type": "execute_result"
        }
      ],
      "source": [
        "ary = np.array([[1, 2, 3],\n",
        "                [4, 5, 6]])\n",
        "\n",
        "first_row = ary[0]\n",
        "first_row += 99\n",
        "ary"
      ]
    },
    {
      "cell_type": "markdown",
      "id": "6f358d53-daa9-4ec8-b647-00404c472496",
      "metadata": {
        "id": "6f358d53-daa9-4ec8-b647-00404c472496"
      },
      "source": [
        "If you want to handle a slice of the array independently, use `copy`"
      ]
    },
    {
      "cell_type": "code",
      "execution_count": null,
      "id": "d2a5dcda-d3fa-4e49-b3c7-db948bed0518",
      "metadata": {
        "id": "d2a5dcda-d3fa-4e49-b3c7-db948bed0518",
        "outputId": "c1ff8344-1ec4-4c75-ffc9-55a0f6b5bdc0"
      },
      "outputs": [
        {
          "data": {
            "text/plain": [
              "array([[1, 2, 3],\n",
              "       [4, 5, 6]])"
            ]
          },
          "execution_count": 33,
          "metadata": {},
          "output_type": "execute_result"
        }
      ],
      "source": [
        "ary = np.array([[1, 2, 3],\n",
        "                [4, 5, 6]])\n",
        "\n",
        "second_row = ary[1].copy()\n",
        "second_row += 99\n",
        "ary"
      ]
    },
    {
      "cell_type": "markdown",
      "id": "4b1b3057-d484-4a40-8985-801730f2b6a8",
      "metadata": {
        "id": "4b1b3057-d484-4a40-8985-801730f2b6a8"
      },
      "source": [
        "### Boolean Masks Sidenote"
      ]
    },
    {
      "cell_type": "markdown",
      "id": "b1852944-c723-472e-84d8-7726f4908d9c",
      "metadata": {
        "id": "b1852944-c723-472e-84d8-7726f4908d9c"
      },
      "source": [
        "We can use masks to find certain values in an array, to find the amount of correct labels for example.  "
      ]
    },
    {
      "cell_type": "code",
      "execution_count": null,
      "id": "4f35d059-5564-49e3-a169-ec16272e2688",
      "metadata": {
        "id": "4f35d059-5564-49e3-a169-ec16272e2688",
        "outputId": "23bef4c2-aa2f-420a-8fa9-bbf33765b68f"
      },
      "outputs": [
        {
          "data": {
            "text/plain": [
              "array([[False, False, False],\n",
              "       [ True,  True,  True]])"
            ]
          },
          "execution_count": 34,
          "metadata": {},
          "output_type": "execute_result"
        }
      ],
      "source": [
        "ary = np.array([[1., 2., 3.],\n",
        "               [4., 5., 6.]])\n",
        "\n",
        "greaterThan3 = ary > 3\n",
        "greaterThan3"
      ]
    },
    {
      "cell_type": "markdown",
      "id": "1c41f4b1-7662-4c37-88bf-24b5e32b9e24",
      "metadata": {
        "id": "1c41f4b1-7662-4c37-88bf-24b5e32b9e24"
      },
      "source": [
        "Using these masks, we can select elements given our desired criteria:"
      ]
    },
    {
      "cell_type": "code",
      "execution_count": null,
      "id": "2dd7d00a-3957-4d30-b61a-f126178a0225",
      "metadata": {
        "id": "2dd7d00a-3957-4d30-b61a-f126178a0225",
        "outputId": "b7996e2a-cf89-440b-8781-a5d450dc1828"
      },
      "outputs": [
        {
          "data": {
            "text/plain": [
              "array([1., 2., 3.])"
            ]
          },
          "execution_count": 35,
          "metadata": {},
          "output_type": "execute_result"
        }
      ],
      "source": [
        "ary[greaterThan3==False]"
      ]
    },
    {
      "cell_type": "markdown",
      "id": "00fcfb5f-6fd1-44f0-be1a-65a5e0bc3762",
      "metadata": {
        "id": "00fcfb5f-6fd1-44f0-be1a-65a5e0bc3762"
      },
      "source": [
        "We can also chain different selection criteria using the logical *and* operator '&' or the logical *or* operator '|'. The example below demonstrates how we can select array elements that are greater than 3 and divisible by 2:"
      ]
    },
    {
      "cell_type": "code",
      "execution_count": null,
      "id": "82092883-2767-47ab-ac44-e4b6b0ed5af6",
      "metadata": {
        "tags": [],
        "id": "82092883-2767-47ab-ac44-e4b6b0ed5af6",
        "outputId": "c9a319eb-901d-477b-b2d1-d30ea7d8a278"
      },
      "outputs": [
        {
          "data": {
            "text/plain": [
              "array([4, 6])"
            ]
          },
          "execution_count": 24,
          "metadata": {},
          "output_type": "execute_result"
        }
      ],
      "source": [
        "ary[(ary > 3) & (ary %2 == 0)]"
      ]
    },
    {
      "cell_type": "markdown",
      "id": "6fc6f6d7-a254-496f-b747-9b2ba6c3e68c",
      "metadata": {
        "id": "6fc6f6d7-a254-496f-b747-9b2ba6c3e68c"
      },
      "source": [
        "---\n",
        "\n",
        "### 6. Random Number Generators\n",
        "\n",
        "---"
      ]
    },
    {
      "cell_type": "markdown",
      "id": "b72b80b7-4807-40c2-b6df-81f1c8c9f059",
      "metadata": {
        "id": "b72b80b7-4807-40c2-b6df-81f1c8c9f059"
      },
      "source": [
        "In machine learning and deep learning, we often have to generate arrays of random numbers -- for example, the initial values of our model parameters before optimization or a shuffling of the data."
      ]
    },
    {
      "cell_type": "code",
      "execution_count": null,
      "id": "0d783c86-a430-4f9a-92e5-fe0f03631ab1",
      "metadata": {
        "id": "0d783c86-a430-4f9a-92e5-fe0f03631ab1",
        "outputId": "26d12b31-fcc8-43df-b295-8d6e216a07dc"
      },
      "outputs": [
        {
          "data": {
            "text/plain": [
              "array([0.18026969, 0.01947524, 0.46321853])"
            ]
          },
          "execution_count": 44,
          "metadata": {},
          "output_type": "execute_result"
        }
      ],
      "source": [
        "np.random.seed(11) # set seed\n",
        "\n",
        "np.random.rand(3) # same 3 numbers will be generated over and over again"
      ]
    },
    {
      "cell_type": "code",
      "execution_count": null,
      "id": "41ce8cc9-f2a9-43f4-a18c-d3ddc9e8e5d9",
      "metadata": {
        "id": "41ce8cc9-f2a9-43f4-a18c-d3ddc9e8e5d9",
        "outputId": "915f064e-1cc4-4e97-b1d5-7be867e4c2a0"
      },
      "outputs": [
        {
          "name": "stdout",
          "output_type": "stream",
          "text": [
            "[0.18026969 0.01947524 0.46321853]\n"
          ]
        }
      ],
      "source": [
        "np.random.seed(11)\n",
        "print(np.random.rand(3)) # random sample "
      ]
    },
    {
      "cell_type": "code",
      "execution_count": null,
      "id": "59fb3e84-eb1f-4d0c-b965-96ba0e576aba",
      "metadata": {
        "id": "59fb3e84-eb1f-4d0c-b965-96ba0e576aba",
        "outputId": "4d7ca8be-a065-4344-9c4b-ded1743d35b6"
      },
      "outputs": [
        {
          "data": {
            "text/plain": [
              "array([[9, 0],\n",
              "       [3, 1]])"
            ]
          },
          "execution_count": 50,
          "metadata": {},
          "output_type": "execute_result"
        }
      ],
      "source": [
        "np.random.randint(0,10, size=(2,2)) # matrix of random integers"
      ]
    },
    {
      "cell_type": "markdown",
      "id": "b2da8d95-efbd-4be0-8adf-1f6801c46d3f",
      "metadata": {
        "id": "b2da8d95-efbd-4be0-8adf-1f6801c46d3f"
      },
      "source": [
        "Example using KNN.  ALlows for reproducible experiments.  \n",
        "If you were to use the same seed you would get the same results !"
      ]
    },
    {
      "cell_type": "code",
      "execution_count": null,
      "id": "c970dc12-95ed-4f09-8b5e-266bd9dffb89",
      "metadata": {
        "id": "c970dc12-95ed-4f09-8b5e-266bd9dffb89"
      },
      "outputs": [],
      "source": [
        "from sklearn.neighbors import KNeighborsClassifier\n",
        "\n",
        "np.random.seed(123)\n",
        "\n",
        "labels = np.array([0]*50 + [1]*50)\n",
        "data = np.random.rand(100,2)\n",
        "\n",
        "knn = KNeighborsClassifier(n_neighbors=3)\n",
        "knn.fit(data, labels)\n",
        "\n",
        "assert knn.score(data, labels) == 0.75 #accuracy"
      ]
    },
    {
      "cell_type": "markdown",
      "id": "35c072fd-cd35-4008-a9b8-a8174d9a8627",
      "metadata": {
        "id": "35c072fd-cd35-4008-a9b8-a8174d9a8627"
      },
      "source": [
        "We can also create a `RandomState`object, that can also be useful :"
      ]
    },
    {
      "cell_type": "code",
      "execution_count": null,
      "id": "9d2073a6-2d13-405c-823b-30f8760fa3e9",
      "metadata": {
        "id": "9d2073a6-2d13-405c-823b-30f8760fa3e9",
        "outputId": "18271743-bb91-4f0d-d42e-767173e79986"
      },
      "outputs": [
        {
          "data": {
            "text/plain": [
              "array([0.18026969, 0.01947524, 0.46321853])"
            ]
          },
          "execution_count": 45,
          "metadata": {},
          "output_type": "execute_result"
        }
      ],
      "source": [
        "rng1 = np.random.RandomState(seed=11)\n",
        "rng1.rand(3)"
      ]
    },
    {
      "cell_type": "markdown",
      "id": "35454b22-5eda-40e0-9dd7-20616ebc2361",
      "metadata": {
        "id": "35454b22-5eda-40e0-9dd7-20616ebc2361"
      },
      "source": [
        "---\n",
        "\n",
        "### 7. Reshaping NumPy Arrays\n",
        "\n",
        "---"
      ]
    },
    {
      "cell_type": "markdown",
      "id": "ed510d0b-62eb-4c01-8d74-e3e440077549",
      "metadata": {
        "id": "ed510d0b-62eb-4c01-8d74-e3e440077549"
      },
      "source": [
        "In practice, we often run into situations where existing arrays do not have the *right* shape to perform certain computations (transforming a matrix of pixels into a 1-d vector to feed to a classifier for example). As you might remember from the beginning of this lecture, the size of NumPy arrays is fixed. Fortunately, this does not mean that we have to create new arrays and copy values from the old array to the new one if we want arrays of different shapes -- the size is fixed, but the shape is not. NumPy provides a `reshape` methods that allow us to obtain a view of an array with a different shape. "
      ]
    },
    {
      "cell_type": "code",
      "execution_count": null,
      "id": "a559ff15-493f-4907-852b-64569ef8e104",
      "metadata": {
        "id": "a559ff15-493f-4907-852b-64569ef8e104",
        "outputId": "d9c284d8-fc7d-4f9c-dac5-7a26ebd59d7a"
      },
      "outputs": [
        {
          "data": {
            "text/plain": [
              "array([[1, 2, 3],\n",
              "       [4, 5, 6]])"
            ]
          },
          "execution_count": 46,
          "metadata": {},
          "output_type": "execute_result"
        }
      ],
      "source": [
        "ary1d = np.array([1, 2, 3, 4, 5, 6])\n",
        "ary2d_view = ary1d.reshape(2, 3)\n",
        "ary2d_view"
      ]
    },
    {
      "cell_type": "code",
      "execution_count": null,
      "id": "bb41c590-9364-406e-b87d-defecac302dc",
      "metadata": {
        "id": "bb41c590-9364-406e-b87d-defecac302dc",
        "outputId": "4a6af5dc-20eb-4d6b-c91e-c8ff904e9096"
      },
      "outputs": [
        {
          "data": {
            "text/plain": [
              "True"
            ]
          },
          "execution_count": 47,
          "metadata": {},
          "output_type": "execute_result"
        }
      ],
      "source": [
        "np.may_share_memory(ary2d_view, ary1d)"
      ]
    },
    {
      "cell_type": "markdown",
      "id": "fb597847-a970-47e5-83e5-973629547906",
      "metadata": {
        "id": "fb597847-a970-47e5-83e5-973629547906"
      },
      "source": [
        "While we need to specify the desired elements along each axis, we need to make sure that the reshaped array has the same number of elements as the original one. However, we do not need to specify the number elements in each axis; NumPy is smart enough to figure out how many elements to put along an axis if only one axis is unspecified (by using the placeholder `-1`):"
      ]
    },
    {
      "cell_type": "code",
      "execution_count": null,
      "id": "e6dfb11d-6f28-493a-a309-a441e1be5df1",
      "metadata": {
        "id": "e6dfb11d-6f28-493a-a309-a441e1be5df1",
        "outputId": "cc520055-a905-4e9d-fc67-5e268c1d0d79"
      },
      "outputs": [
        {
          "data": {
            "text/plain": [
              "array([[1, 2, 3],\n",
              "       [4, 5, 6]])"
            ]
          },
          "execution_count": 48,
          "metadata": {},
          "output_type": "execute_result"
        }
      ],
      "source": [
        "ary1d.reshape(2, -1)"
      ]
    },
    {
      "cell_type": "code",
      "execution_count": null,
      "id": "db3798e8-2267-44b7-b14e-41c25aed72a5",
      "metadata": {
        "id": "db3798e8-2267-44b7-b14e-41c25aed72a5",
        "outputId": "930c0146-4020-43df-83d5-6bf2056051d0"
      },
      "outputs": [
        {
          "data": {
            "text/plain": [
              "array([[1, 2],\n",
              "       [3, 4],\n",
              "       [5, 6]])"
            ]
          },
          "execution_count": 49,
          "metadata": {},
          "output_type": "execute_result"
        }
      ],
      "source": [
        "ary1d.reshape(-1, 2)"
      ]
    },
    {
      "cell_type": "code",
      "execution_count": null,
      "id": "d11a6d27-cff3-43c1-a8f7-1a7401d41bb8",
      "metadata": {
        "id": "d11a6d27-cff3-43c1-a8f7-1a7401d41bb8",
        "outputId": "e61021c3-a302-4eb3-c6a0-aba1dc25ceb1"
      },
      "outputs": [
        {
          "data": {
            "text/plain": [
              "array([1, 2, 3, 4, 5, 6])"
            ]
          },
          "execution_count": 50,
          "metadata": {},
          "output_type": "execute_result"
        }
      ],
      "source": [
        "ary = np.array([[[1, 2, 3],\n",
        "                [4, 5, 6]]])\n",
        "\n",
        "ary.reshape(-1)"
      ]
    },
    {
      "cell_type": "markdown",
      "id": "453ba02d-e63b-4c33-96c8-935bef381fb9",
      "metadata": {
        "id": "453ba02d-e63b-4c33-96c8-935bef381fb9"
      },
      "source": [
        "Sometimes, we are interested in merging different arrays. Unfortunately, there is no efficient way to do this without creating a new array, since NumPy arrays have a fixed size.  \n",
        "To combine two or more array objects, we can use NumPy's `concatenate` function as shown in the following examples:"
      ]
    },
    {
      "cell_type": "code",
      "execution_count": null,
      "id": "09818043-7fbb-4fa5-8c9a-1e9edfdb227e",
      "metadata": {
        "id": "09818043-7fbb-4fa5-8c9a-1e9edfdb227e",
        "outputId": "9f4c00b8-92bf-4039-f50b-4c8d80798c27"
      },
      "outputs": [
        {
          "data": {
            "text/plain": [
              "array([1, 2, 3, 1, 2, 3])"
            ]
          },
          "execution_count": 53,
          "metadata": {},
          "output_type": "execute_result"
        }
      ],
      "source": [
        "ary = np.array([1, 2, 3])\n",
        "\n",
        "# stack along the only axis\n",
        "ary1 = np.concatenate((ary, ary)) \n",
        "ary1\n",
        "#np.may_share_memory(ary, ary1)"
      ]
    },
    {
      "cell_type": "code",
      "execution_count": null,
      "id": "4b975ca2-ea65-4500-9529-635f8e4d8c56",
      "metadata": {
        "id": "4b975ca2-ea65-4500-9529-635f8e4d8c56",
        "outputId": "5820aed0-ce41-460e-df82-6f39c3fdf299"
      },
      "outputs": [
        {
          "data": {
            "text/plain": [
              "array([[1, 2, 3],\n",
              "       [4, 5, 6],\n",
              "       [1, 2, 3]])"
            ]
          },
          "execution_count": 65,
          "metadata": {},
          "output_type": "execute_result"
        }
      ],
      "source": [
        "ary1 = np.array ([[1,2,3],\n",
        "                 [4,5,6]])\n",
        "\n",
        "ary2 = np.array([[1,2,3]])\n",
        "\n",
        "np.concatenate((ary1, ary2), axis=0)"
      ]
    },
    {
      "cell_type": "code",
      "execution_count": null,
      "id": "6113c905-4475-44a5-ba22-40bf28f37fa0",
      "metadata": {
        "id": "6113c905-4475-44a5-ba22-40bf28f37fa0",
        "outputId": "ab80509e-7697-4c78-f44b-c439887d277d"
      },
      "outputs": [
        {
          "data": {
            "text/plain": [
              "array([[1, 2, 3, 1],\n",
              "       [4, 5, 6, 2]])"
            ]
          },
          "execution_count": 68,
          "metadata": {},
          "output_type": "execute_result"
        }
      ],
      "source": [
        "ary1 = np.array ([[1,2,3],\n",
        "                 [4,5,6]])\n",
        "ary2 = np.array([[1],\n",
        "                 [2]])\n",
        "\n",
        "np.concatenate((ary1, ary2), axis=1)"
      ]
    },
    {
      "cell_type": "markdown",
      "id": "f12c6fda-3b30-4b81-892f-7aa599f9b411",
      "metadata": {
        "id": "f12c6fda-3b30-4b81-892f-7aa599f9b411"
      },
      "source": [
        "---\n",
        "\n",
        "### 8.Comparison Operators and Masks\n",
        "\n",
        "___"
      ]
    },
    {
      "cell_type": "markdown",
      "id": "1ea6cf7e-efcd-43a0-b280-d7d0863115ce",
      "metadata": {
        "id": "1ea6cf7e-efcd-43a0-b280-d7d0863115ce"
      },
      "source": [
        "Boolean masks are `bool`-type arrays (storing `True` and `False` values) that have the same shape as a certain target array. For example, consider the following 4-element array below. Using comparison operators (such as `<`, `>`, `<=`, and `>=`), we can create a Boolean mask of that array which consists of `True` and `False` elements depending on whether a condition is met in the target array (here: `ary`):"
      ]
    },
    {
      "cell_type": "code",
      "execution_count": null,
      "id": "e9745b36-3ecd-476f-9b56-79eaf38eb721",
      "metadata": {
        "id": "e9745b36-3ecd-476f-9b56-79eaf38eb721",
        "outputId": "f6493b3d-7eb2-421b-e7b6-00aea6698b8b"
      },
      "outputs": [
        {
          "data": {
            "text/plain": [
              "array([False, False,  True,  True,  True])"
            ]
          },
          "execution_count": 160,
          "metadata": {},
          "output_type": "execute_result"
        }
      ],
      "source": [
        "ary = np.array([1, 2, 3, 4, 5])\n",
        "mask = ary > 2\n",
        "mask"
      ]
    },
    {
      "cell_type": "markdown",
      "id": "cf557159-e2f0-4bc6-b29e-f49321544f22",
      "metadata": {
        "id": "cf557159-e2f0-4bc6-b29e-f49321544f22"
      },
      "source": [
        "Once we have created such a Boolean mask, we can use it to select certain entries from the target array -- those entries that match the condition upon which the mask was created):"
      ]
    },
    {
      "cell_type": "code",
      "execution_count": null,
      "id": "738e0d22-1e27-448f-a0c3-0d7e3110e3aa",
      "metadata": {
        "id": "738e0d22-1e27-448f-a0c3-0d7e3110e3aa",
        "outputId": "d8f127e7-aa03-4c33-bedf-0b6a95907c9e"
      },
      "outputs": [
        {
          "data": {
            "text/plain": [
              "array([3, 4, 5])"
            ]
          },
          "execution_count": 161,
          "metadata": {},
          "output_type": "execute_result"
        }
      ],
      "source": [
        "ary[mask]"
      ]
    },
    {
      "cell_type": "markdown",
      "id": "e3c0fe97-366b-4611-822a-6c59bfc7ce55",
      "metadata": {
        "id": "e3c0fe97-366b-4611-822a-6c59bfc7ce55"
      },
      "source": [
        "`mask.sum()` Beyond the selection of elements from an array, Boolean masks can also come in handy when we want to count how many elements in an array meet a certain condition:"
      ]
    },
    {
      "cell_type": "code",
      "execution_count": null,
      "id": "b8c7f859-884f-4d7c-853a-1867fbd0523c",
      "metadata": {
        "id": "b8c7f859-884f-4d7c-853a-1867fbd0523c",
        "outputId": "a26be656-2116-448b-be9c-6a32b253d592"
      },
      "outputs": [
        {
          "data": {
            "text/plain": [
              "array([False, False,  True,  True,  True])"
            ]
          },
          "execution_count": 162,
          "metadata": {},
          "output_type": "execute_result"
        }
      ],
      "source": [
        "mask"
      ]
    },
    {
      "cell_type": "code",
      "execution_count": null,
      "id": "cb75b4c1-82eb-4907-a151-78e4665bfa9d",
      "metadata": {
        "id": "cb75b4c1-82eb-4907-a151-78e4665bfa9d",
        "outputId": "73e9fef1-9eda-47c3-d196-d2121dc95363"
      },
      "outputs": [
        {
          "data": {
            "text/plain": [
              "3"
            ]
          },
          "execution_count": 163,
          "metadata": {},
          "output_type": "execute_result"
        }
      ],
      "source": [
        "mask.sum()"
      ]
    },
    {
      "cell_type": "markdown",
      "id": "a672252a-bbc4-49bc-b02e-60b592bdd5ac",
      "metadata": {
        "id": "a672252a-bbc4-49bc-b02e-60b592bdd5ac"
      },
      "source": [
        "A related, useful function to assign values to specific elements in an array is the `np.where` function. In the example below, we assign a 1 to all values in the array that are greater than 2 -- and 0, otherwise:"
      ]
    },
    {
      "cell_type": "code",
      "execution_count": null,
      "id": "887930ec-e21b-49c6-add8-a1a8a3f7c883",
      "metadata": {
        "id": "887930ec-e21b-49c6-add8-a1a8a3f7c883",
        "outputId": "11c72360-720f-468f-c6a2-4179ab61e0b7"
      },
      "outputs": [
        {
          "data": {
            "text/plain": [
              "array([0, 0, 1, 1, 1])"
            ]
          },
          "execution_count": 164,
          "metadata": {},
          "output_type": "execute_result"
        }
      ],
      "source": [
        "np.where(ary > 2, 1, 0)"
      ]
    },
    {
      "cell_type": "code",
      "execution_count": null,
      "id": "c8bf3720-3362-4840-94b0-1a781d04c1ac",
      "metadata": {
        "id": "c8bf3720-3362-4840-94b0-1a781d04c1ac",
        "outputId": "7d657d23-c398-4eed-f358-f469494dfc81"
      },
      "outputs": [
        {
          "data": {
            "text/plain": [
              "(array([2, 3, 4]),)"
            ]
          },
          "execution_count": 166,
          "metadata": {},
          "output_type": "execute_result"
        }
      ],
      "source": [
        "# get indices without the replacement arguments\n",
        "np.where(ary > 2)"
      ]
    },
    {
      "cell_type": "markdown",
      "id": "f906eb58-fe17-473b-900c-7c2f846729f9",
      "metadata": {
        "id": "f906eb58-fe17-473b-900c-7c2f846729f9"
      },
      "source": [
        "There are also 'bit-wise' operators that we can use to specify more complex selection criteria:"
      ]
    },
    {
      "cell_type": "code",
      "execution_count": null,
      "id": "5c51e572-92fd-410c-96b0-8f7cbbaa716b",
      "metadata": {
        "id": "5c51e572-92fd-410c-96b0-8f7cbbaa716b",
        "outputId": "905b9d43-19a5-42a7-f485-0e41ee12434e"
      },
      "outputs": [
        {
          "data": {
            "text/plain": [
              "array([0, 0, 1, 1, 1])"
            ]
          },
          "execution_count": 92,
          "metadata": {},
          "output_type": "execute_result"
        }
      ],
      "source": [
        "ary = np.array([1, 2, 3, 4, 5])\n",
        "mask = ary > 2\n",
        "ary[mask] = 1\n",
        "ary[~mask] = 0\n",
        "ary"
      ]
    },
    {
      "cell_type": "markdown",
      "id": "31605356-771d-4f89-9991-340d2a28b15c",
      "metadata": {
        "id": "31605356-771d-4f89-9991-340d2a28b15c"
      },
      "source": [
        "The `~` operator in the example above is one of the logical operators in NumPy:\n",
        "    \n",
        "- A: `&`  or `np.bitwise_and`\n",
        "- Or: `|` or `np.bitwise_or`\n",
        "- Xor: `^` or `np.bitwise_xor`\n",
        "- Not: `~` or `np.bitwise_not`"
      ]
    },
    {
      "cell_type": "markdown",
      "id": "1427ed3c-d9a2-42ca-a8b3-0607db03e910",
      "metadata": {
        "id": "1427ed3c-d9a2-42ca-a8b3-0607db03e910"
      },
      "source": [
        "These logical operators allow us to chain an arbitrary number of conditions to create even more \"complex\" Boolean masks. For example, using the \"Or\" operator, we can select all elements that are greater than 3 or smaller than 2 as follows:"
      ]
    },
    {
      "cell_type": "code",
      "execution_count": null,
      "id": "d8b52ea2-c09d-4129-8ff2-6bcb5dba4d00",
      "metadata": {
        "id": "d8b52ea2-c09d-4129-8ff2-6bcb5dba4d00",
        "outputId": "41729ec3-ddff-4889-e6cd-f1b27f6f4eff"
      },
      "outputs": [
        {
          "data": {
            "text/plain": [
              "array([False,  True,  True, False,  True])"
            ]
          },
          "execution_count": 101,
          "metadata": {},
          "output_type": "execute_result"
        }
      ],
      "source": [
        "ary = np.array([1, 2, 3, 4, 5])\n",
        " \n",
        "mask = (ary > 2) ^ (ary % 2 == 0)\n",
        "mask"
      ]
    },
    {
      "cell_type": "markdown",
      "id": "6e2ae18e-ca65-4d8f-838f-aff35def652d",
      "metadata": {
        "id": "6e2ae18e-ca65-4d8f-838f-aff35def652d"
      },
      "source": [
        "`~` is the *negate* operator :"
      ]
    },
    {
      "cell_type": "code",
      "execution_count": null,
      "id": "216e97a7-acd1-44d1-9dd8-5ca878ddca3a",
      "metadata": {
        "id": "216e97a7-acd1-44d1-9dd8-5ca878ddca3a",
        "outputId": "dd7d4e8c-1b9d-46c3-8200-cd2c61c509ca"
      },
      "outputs": [
        {
          "data": {
            "text/plain": [
              "array([ True, False, False,  True, False])"
            ]
          },
          "execution_count": 104,
          "metadata": {},
          "output_type": "execute_result"
        }
      ],
      "source": [
        "~((ary > 2) ^ (ary % 2 == 0))"
      ]
    },
    {
      "cell_type": "markdown",
      "id": "a519b23d-0ff3-4f01-9cfe-a94eca3180f7",
      "metadata": {
        "id": "a519b23d-0ff3-4f01-9cfe-a94eca3180f7"
      },
      "source": [
        "### Dealing with predictions example"
      ]
    },
    {
      "cell_type": "code",
      "execution_count": null,
      "id": "e5ff701e-5da8-4a9c-95ab-836c488bc3ea",
      "metadata": {
        "id": "e5ff701e-5da8-4a9c-95ab-836c488bc3ea",
        "outputId": "e028fa53-16fa-4d84-c3da-da92732bd5cb"
      },
      "outputs": [
        {
          "data": {
            "text/plain": [
              "array([0, 1, 0, 1, 1])"
            ]
          },
          "execution_count": 106,
          "metadata": {},
          "output_type": "execute_result"
        }
      ],
      "source": [
        "preds = np.array([0.3 ,0.9 ,0.2 ,0.68, 0.78])\n",
        "labels = np.array([0, 1, 0, 0, 1])\n",
        "\n",
        "mask_preds = np.where(preds > 0.5, 1, 0)\n",
        "mask_preds"
      ]
    },
    {
      "cell_type": "code",
      "execution_count": null,
      "id": "23ffec34-ae5c-4647-b07c-5f6c78c540b5",
      "metadata": {
        "id": "23ffec34-ae5c-4647-b07c-5f6c78c540b5",
        "outputId": "5b9fccec-bd2e-47c2-c754-155860efaf0b"
      },
      "outputs": [
        {
          "data": {
            "text/plain": [
              "array([ True,  True,  True, False,  True])"
            ]
          },
          "execution_count": 112,
          "metadata": {},
          "output_type": "execute_result"
        }
      ],
      "source": [
        "correct_predictions = (mask_preds == labels)\n",
        "correct_predictions"
      ]
    },
    {
      "cell_type": "code",
      "execution_count": null,
      "id": "12252b5d-3a57-4653-b0e9-eb85b17e7d32",
      "metadata": {
        "id": "12252b5d-3a57-4653-b0e9-eb85b17e7d32",
        "outputId": "d3e29ea2-c3bf-45b6-ddf4-7777c18e04fe"
      },
      "outputs": [
        {
          "data": {
            "text/plain": [
              "0.8"
            ]
          },
          "execution_count": 113,
          "metadata": {},
          "output_type": "execute_result"
        }
      ],
      "source": [
        "accuracy = correct_predictions.sum() / len(mask)\n",
        "accuracy"
      ]
    },
    {
      "cell_type": "markdown",
      "id": "6f71851b-e2b8-4f12-8edc-dc2d4d669e1a",
      "metadata": {
        "id": "6f71851b-e2b8-4f12-8edc-dc2d4d669e1a"
      },
      "source": [
        "---\n",
        "\n",
        "### 9. Linear Algebra with NumPy\n",
        "\n",
        "---"
      ]
    },
    {
      "cell_type": "markdown",
      "id": "308f4f3b-352c-4957-bf9f-8a624018fd3a",
      "metadata": {
        "id": "308f4f3b-352c-4957-bf9f-8a624018fd3a"
      },
      "source": [
        "Intuitively, we can think of one-dimensional NumPy arrays as data structures that represent row vectors (this differs from the standard column vectors we are used to manipulating in linear algebra...) :"
      ]
    },
    {
      "cell_type": "code",
      "execution_count": null,
      "id": "6be43115-b91a-4dc8-b622-f3baa14bedda",
      "metadata": {
        "id": "6be43115-b91a-4dc8-b622-f3baa14bedda",
        "outputId": "53f863a2-1aff-4b5e-8b5d-701d86500d47"
      },
      "outputs": [
        {
          "data": {
            "text/plain": [
              "array([1, 2, 3])"
            ]
          },
          "execution_count": 123,
          "metadata": {},
          "output_type": "execute_result"
        }
      ],
      "source": [
        "row_vector = np.array([1, 2, 3])\n",
        "row_vector"
      ]
    },
    {
      "cell_type": "markdown",
      "id": "4dc2f6eb-6d5d-4621-a618-dccf9728ee05",
      "metadata": {
        "id": "4dc2f6eb-6d5d-4621-a618-dccf9728ee05"
      },
      "source": [
        "Similarly, we can use two-dimensional arrays to create column vectors (a 3x1 matrix basically):"
      ]
    },
    {
      "cell_type": "code",
      "execution_count": null,
      "id": "66f5950e-a2ed-4d33-8cc0-487941858f64",
      "metadata": {
        "id": "66f5950e-a2ed-4d33-8cc0-487941858f64",
        "outputId": "2c368223-3b1c-4db4-ccc0-88ba684ae689"
      },
      "outputs": [
        {
          "data": {
            "text/plain": [
              "array([[1],\n",
              "       [2],\n",
              "       [3]])"
            ]
          },
          "execution_count": 126,
          "metadata": {},
          "output_type": "execute_result"
        }
      ],
      "source": [
        "column_vector = np.array([1, 2, 3]).reshape(-1, 1)\n",
        "column_vector"
      ]
    },
    {
      "cell_type": "markdown",
      "id": "80a54683-dc0e-4e7c-bbb8-ad714799a09c",
      "metadata": {
        "id": "80a54683-dc0e-4e7c-bbb8-ad714799a09c"
      },
      "source": [
        "We can think of a column vector as a matrix consisting only of one column.  \n",
        "To perform matrix multiplication between matrices, we learned that number of columns of the left matrix must match the number of rows of the matrix to the right. In NumPy, we can perform matrix multiplication via the `matmul` function:"
      ]
    },
    {
      "cell_type": "code",
      "execution_count": null,
      "id": "a295b15e-a464-4c49-8a2d-d41405cad024",
      "metadata": {
        "id": "a295b15e-a464-4c49-8a2d-d41405cad024"
      },
      "outputs": [],
      "source": [
        "matrix = np.array([[1, 2, 3], \n",
        "                   [4, 5, 6]])"
      ]
    },
    {
      "cell_type": "code",
      "execution_count": null,
      "id": "c3e73e0d-3577-4401-9b05-9bb1a76417bd",
      "metadata": {
        "id": "c3e73e0d-3577-4401-9b05-9bb1a76417bd",
        "outputId": "47451cb1-611b-48b9-c6d3-ef4ad32ec85f"
      },
      "outputs": [
        {
          "data": {
            "text/plain": [
              "array([[14],\n",
              "       [32]])"
            ]
          },
          "execution_count": 132,
          "metadata": {},
          "output_type": "execute_result"
        }
      ],
      "source": [
        "# 2x3 3x1 ==> 2x1\n",
        "np.matmul(matrix, column_vector)"
      ]
    },
    {
      "cell_type": "markdown",
      "id": "db2ff024-c6c5-4f4a-96e7-4f8731e3269a",
      "metadata": {
        "id": "db2ff024-c6c5-4f4a-96e7-4f8731e3269a"
      },
      "source": [
        "<img src=\"https://github.com/armandstrickernlp/NLP_Inalco/blob/main/Semester2/Notebooks_sem2/04_Numpy_intro/images/numpy-intro/matmul.png?raw=1\" alt=\"Drawing\" style=\"width: 300px;\"/>"
      ]
    },
    {
      "cell_type": "markdown",
      "id": "1080039f-73fb-40fe-9920-c37b22db86fe",
      "metadata": {
        "id": "1080039f-73fb-40fe-9920-c37b22db86fe"
      },
      "source": [
        "However numpy can be forgiving regarding dimensions... The following example yields the same result as the matrix-column vector multiplication, except that it returns a one-dimensional array instead of a two-dimensional one:"
      ]
    },
    {
      "cell_type": "code",
      "execution_count": null,
      "id": "40381d78-016e-4a59-acff-cad8adc11a94",
      "metadata": {
        "id": "40381d78-016e-4a59-acff-cad8adc11a94",
        "outputId": "3f8d1db0-a27a-4351-b488-81e0f8f0b3e5"
      },
      "outputs": [
        {
          "data": {
            "text/plain": [
              "(2,)"
            ]
          },
          "execution_count": 131,
          "metadata": {},
          "output_type": "execute_result"
        }
      ],
      "source": [
        "# 2x3 3 ==> 2\n",
        "np.matmul(matrix, row_vector).shape"
      ]
    },
    {
      "cell_type": "markdown",
      "id": "144794de-563d-4f65-b4f6-a2c7a2ea168b",
      "metadata": {
        "id": "144794de-563d-4f65-b4f6-a2c7a2ea168b"
      },
      "source": [
        "NumPy has a special `dot` function that behaves similar to `matmul` on pairs of one- or two-dimensional arrays"
      ]
    },
    {
      "cell_type": "code",
      "execution_count": null,
      "id": "e49f4b92-457e-4275-8a2d-3524557a2126",
      "metadata": {
        "id": "e49f4b92-457e-4275-8a2d-3524557a2126",
        "outputId": "9d8cbe36-9ab2-468e-e037-fcc0259b21af"
      },
      "outputs": [
        {
          "data": {
            "text/plain": [
              "14"
            ]
          },
          "execution_count": 133,
          "metadata": {},
          "output_type": "execute_result"
        }
      ],
      "source": [
        "np.dot(row_vector, row_vector)"
      ]
    },
    {
      "cell_type": "code",
      "execution_count": null,
      "id": "abed42ec-1809-4bc5-a00e-23e2ef1e1427",
      "metadata": {
        "id": "abed42ec-1809-4bc5-a00e-23e2ef1e1427",
        "outputId": "fe417501-f347-4e74-eb8a-b43fb195bd5e"
      },
      "outputs": [
        {
          "data": {
            "text/plain": [
              "array([14, 32])"
            ]
          },
          "execution_count": 134,
          "metadata": {},
          "output_type": "execute_result"
        }
      ],
      "source": [
        "np.dot(matrix, row_vector)"
      ]
    },
    {
      "cell_type": "code",
      "execution_count": null,
      "id": "468a5131-4e89-4b6b-89c1-b5cc0215a312",
      "metadata": {
        "id": "468a5131-4e89-4b6b-89c1-b5cc0215a312",
        "outputId": "5b8d8cc8-0d9a-4c79-8b6a-1ac49e771902"
      },
      "outputs": [
        {
          "data": {
            "text/plain": [
              "array([[14],\n",
              "       [32]])"
            ]
          },
          "execution_count": 135,
          "metadata": {},
          "output_type": "execute_result"
        }
      ],
      "source": [
        "np.dot(matrix, column_vector)"
      ]
    },
    {
      "cell_type": "markdown",
      "id": "e262c095-0f16-483a-ba98-bf20920ee2e8",
      "metadata": {
        "id": "e262c095-0f16-483a-ba98-bf20920ee2e8"
      },
      "source": [
        "You can also use a shortcut operator for `np.dot`, the `@`symbol :"
      ]
    },
    {
      "cell_type": "code",
      "execution_count": null,
      "id": "171993ff-0caa-4630-b7df-a3f5a4e657e9",
      "metadata": {
        "id": "171993ff-0caa-4630-b7df-a3f5a4e657e9",
        "outputId": "ef429d4d-90f3-410d-bae7-2a6da5269459"
      },
      "outputs": [
        {
          "data": {
            "text/plain": [
              "14"
            ]
          },
          "execution_count": 136,
          "metadata": {},
          "output_type": "execute_result"
        }
      ],
      "source": [
        "row_vector @ row_vector"
      ]
    },
    {
      "cell_type": "code",
      "execution_count": null,
      "id": "4276755a-a56b-4c9d-9413-0e76374bbf42",
      "metadata": {
        "id": "4276755a-a56b-4c9d-9413-0e76374bbf42",
        "outputId": "d420b20f-1c5f-4342-f787-8f7468e35332"
      },
      "outputs": [
        {
          "data": {
            "text/plain": [
              "array([14, 32])"
            ]
          },
          "execution_count": 138,
          "metadata": {},
          "output_type": "execute_result"
        }
      ],
      "source": [
        "matrix @ row_vector"
      ]
    },
    {
      "cell_type": "code",
      "execution_count": null,
      "id": "a7c73e6f-a573-4955-b464-e3b866368020",
      "metadata": {
        "id": "a7c73e6f-a573-4955-b464-e3b866368020",
        "outputId": "4106a5a6-d9d2-467a-ab85-1a4a01ab4878"
      },
      "outputs": [
        {
          "data": {
            "text/plain": [
              "array([[14],\n",
              "       [32]])"
            ]
          },
          "execution_count": 137,
          "metadata": {},
          "output_type": "execute_result"
        }
      ],
      "source": [
        "matrix @ column_vector"
      ]
    },
    {
      "cell_type": "markdown",
      "id": "fb7da6f8-f146-4bb8-820f-db373df7402d",
      "metadata": {
        "id": "fb7da6f8-f146-4bb8-820f-db373df7402d"
      },
      "source": [
        "NumPy arrays have a handy `transpose` method to transpose matrices if necessary:"
      ]
    },
    {
      "cell_type": "markdown",
      "id": "c56c2af0-2f57-48e3-92be-b87d35ff3519",
      "metadata": {
        "id": "c56c2af0-2f57-48e3-92be-b87d35ff3519"
      },
      "source": [
        "<img src=\"https://github.com/armandstrickernlp/NLP_Inalco/blob/main/Semester2/Notebooks_sem2/04_Numpy_intro/images/numpy-intro/transpose.png?raw=1\" alt=\"Drawing\" style=\"width: 500px;\"/>"
      ]
    },
    {
      "cell_type": "code",
      "execution_count": null,
      "id": "fefc7a97-390f-4833-b27f-5ce281c59cfd",
      "metadata": {
        "id": "fefc7a97-390f-4833-b27f-5ce281c59cfd",
        "outputId": "3309dcbe-4cfc-4560-b03f-7e17e3534308"
      },
      "outputs": [
        {
          "data": {
            "text/plain": [
              "array([[14, 32],\n",
              "       [32, 77]])"
            ]
          },
          "execution_count": 139,
          "metadata": {},
          "output_type": "execute_result"
        }
      ],
      "source": [
        "matrix @ matrix.transpose()"
      ]
    },
    {
      "cell_type": "markdown",
      "id": "67b88be9-0c40-468a-a15d-ac070b6ce514",
      "metadata": {
        "id": "67b88be9-0c40-468a-a15d-ac070b6ce514"
      },
      "source": [
        "<img src=\"https://github.com/armandstrickernlp/NLP_Inalco/blob/main/Semester2/Notebooks_sem2/04_Numpy_intro/images/numpy-intro/matmatmul.png?raw=1\" alt=\"Drawing\" style=\"width: 500px;\"/>"
      ]
    },
    {
      "cell_type": "markdown",
      "id": "388c5ca0-b201-4e6a-aff9-2f22903b3780",
      "metadata": {
        "tags": [],
        "id": "388c5ca0-b201-4e6a-aff9-2f22903b3780"
      },
      "source": [
        "### Multi-Dimensional arrays"
      ]
    },
    {
      "cell_type": "markdown",
      "id": "b154a1d0-6444-41e8-9f15-3be8130d48a1",
      "metadata": {
        "id": "b154a1d0-6444-41e8-9f15-3be8130d48a1"
      },
      "source": [
        "These are not traditionally used with numpy, but you will come across them if you do any in deep learning (3-D is generally as far as it goes...)"
      ]
    },
    {
      "cell_type": "code",
      "execution_count": null,
      "id": "391808fc-2140-4c8d-b56b-910c92622f09",
      "metadata": {
        "id": "391808fc-2140-4c8d-b56b-910c92622f09",
        "outputId": "60012351-1319-49f6-ebaa-d583befe5038"
      },
      "outputs": [
        {
          "data": {
            "text/plain": [
              "(2, 2, 5, 2)"
            ]
          },
          "execution_count": 149,
          "metadata": {},
          "output_type": "execute_result"
        }
      ],
      "source": [
        "n_ary = np.arange(1,41).reshape(2,2,5,-1)\n",
        "n_ary.shape"
      ]
    },
    {
      "cell_type": "markdown",
      "id": "39310a0f-081c-47c9-b7bf-fe32a7e5ea1d",
      "metadata": {
        "id": "39310a0f-081c-47c9-b7bf-fe32a7e5ea1d"
      },
      "source": [
        "Think of boxes within boxes... Beyond that it's just the same mechanism over and over again, but it starts to become harder to think about as the number of dimensions grows !"
      ]
    },
    {
      "cell_type": "markdown",
      "id": "0f79f246-e20a-4366-9c9e-5a13e614d092",
      "metadata": {
        "id": "0f79f246-e20a-4366-9c9e-5a13e614d092"
      },
      "source": [
        "---\n",
        "\n",
        "### 10. Practice Exercises\n",
        "\n",
        "___"
      ]
    },
    {
      "cell_type": "code",
      "execution_count": null,
      "id": "501344ca-2d3d-483a-abb7-ec444b0757ca",
      "metadata": {
        "id": "501344ca-2d3d-483a-abb7-ec444b0757ca"
      },
      "outputs": [],
      "source": [
        "# Create 2 np arrays and output an array in which every element is the element-wise addition of those 2 arrays"
      ]
    },
    {
      "cell_type": "code",
      "execution_count": null,
      "id": "9b5739a1-d6ee-4d8c-b850-62177b529a45",
      "metadata": {
        "id": "9b5739a1-d6ee-4d8c-b850-62177b529a45"
      },
      "outputs": [],
      "source": [
        "# Given a numpy array (matrix), how do you get a numpy array output which is equal to the original matrix multiplied by a scalar?"
      ]
    },
    {
      "cell_type": "code",
      "execution_count": null,
      "id": "57fcb38f-16de-451e-8c4d-7b9e2a882284",
      "metadata": {
        "id": "57fcb38f-16de-451e-8c4d-7b9e2a882284"
      },
      "outputs": [],
      "source": [
        "# Convert a 1-D array to a 3-D array"
      ]
    },
    {
      "cell_type": "code",
      "execution_count": null,
      "id": "5804ea06-9d84-43c4-a7c5-b17abbf07bcc",
      "metadata": {
        "id": "5804ea06-9d84-43c4-a7c5-b17abbf07bcc"
      },
      "outputs": [],
      "source": [
        "# Add a column vector array to a matrix array (as an extra column)"
      ]
    },
    {
      "cell_type": "code",
      "execution_count": null,
      "id": "e1356c2f-8a55-4a57-a6b3-0ed32e257db5",
      "metadata": {
        "id": "e1356c2f-8a55-4a57-a6b3-0ed32e257db5"
      },
      "outputs": [],
      "source": [
        "# From 2 numpy arrays, extract the indexes in which the elements in the 2 arrays match"
      ]
    },
    {
      "cell_type": "code",
      "execution_count": null,
      "id": "3adc86d1-6fd8-4afa-93de-41a9daac406d",
      "metadata": {
        "id": "3adc86d1-6fd8-4afa-93de-41a9daac406d"
      },
      "outputs": [],
      "source": [
        "# Output a 3x3 array of random integers between 0 (inclusive) and 10 (exclusive)"
      ]
    },
    {
      "cell_type": "code",
      "execution_count": null,
      "id": "afe8c580-97f1-4157-8363-5580802be83a",
      "metadata": {
        "id": "afe8c580-97f1-4157-8363-5580802be83a"
      },
      "outputs": [],
      "source": [
        "# Replace the values of the previous array that are lower than 3 with the value 0"
      ]
    },
    {
      "cell_type": "code",
      "execution_count": null,
      "id": "d00db8c1-c3e5-427b-8394-a63d8eec13b9",
      "metadata": {
        "id": "d00db8c1-c3e5-427b-8394-a63d8eec13b9"
      },
      "outputs": [],
      "source": [
        "# Given 2 numpy arrays as matrices, output the result of matrix multiplying the 2 matrices (as a numpy array)"
      ]
    }
  ],
  "metadata": {
    "kernelspec": {
      "display_name": "Python 3 (ipykernel)",
      "language": "python",
      "name": "python3"
    },
    "language_info": {
      "codemirror_mode": {
        "name": "ipython",
        "version": 3
      },
      "file_extension": ".py",
      "mimetype": "text/x-python",
      "name": "python",
      "nbconvert_exporter": "python",
      "pygments_lexer": "ipython3",
      "version": "3.9.7"
    },
    "colab": {
      "name": "NumpyTuto.ipynb",
      "provenance": [],
      "include_colab_link": true
    }
  },
  "nbformat": 4,
  "nbformat_minor": 5
}