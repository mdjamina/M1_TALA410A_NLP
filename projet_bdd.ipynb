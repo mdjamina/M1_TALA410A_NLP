{
  "nbformat": 4,
  "nbformat_minor": 0,
  "metadata": {
    "colab": {
      "name": "projet_bdd.ipynb",
      "provenance": [],
      "collapsed_sections": [],
      "authorship_tag": "ABX9TyPoDKeuLQwdVW1itLS5doQA",
      "include_colab_link": true
    },
    "kernelspec": {
      "name": "python3",
      "display_name": "Python 3"
    },
    "language_info": {
      "name": "python"
    }
  },
  "cells": [
    {
      "cell_type": "markdown",
      "metadata": {
        "id": "view-in-github",
        "colab_type": "text"
      },
      "source": [
        "<a href=\"https://colab.research.google.com/github/mdjamina/M1_TALA410A_NLP_PS1/blob/main/projet_bdd.ipynb\" target=\"_parent\"><img src=\"https://colab.research.google.com/assets/colab-badge.svg\" alt=\"Open In Colab\"/></a>"
      ]
    },
    {
      "cell_type": "code",
      "metadata": {
        "id": "JPgyFlv9tlTp"
      },
      "source": [
        "import sqlite3\n",
        "import csv\n",
        "import pprint as pp\n",
        "import pandas as pd\n",
        "import re\n",
        "import random\n",
        "import numpy as np"
      ],
      "execution_count": null,
      "outputs": []
    },
    {
      "cell_type": "markdown",
      "metadata": {
        "id": "XQZrxGQOeeSf"
      },
      "source": [
        "# Partie 1: "
      ]
    },
    {
      "cell_type": "markdown",
      "metadata": {
        "id": "vJts8CdpK-1P"
      },
      "source": [
        "## Extraction du fichier CSV"
      ]
    },
    {
      "cell_type": "code",
      "metadata": {
        "id": "llui-VbY8txF"
      },
      "source": [
        "df = pd.read_csv('./data_client.csv',dtype=str)\n",
        "\n",
        "df.head()\n",
        "\n"
      ],
      "execution_count": null,
      "outputs": []
    },
    {
      "cell_type": "markdown",
      "metadata": {
        "id": "LCztWJ7kLDoW"
      },
      "source": [
        "## Transformation des données"
      ]
    },
    {
      "cell_type": "markdown",
      "metadata": {
        "id": "JztBu0iQLVh_"
      },
      "source": [
        "### Découpage de la colonne 'NOM_CLIENT'\n",
        "\n",
        "Dans le fichier source le champs NOM_CLIENT, le nom et le prénom concaténés "
      ]
    },
    {
      "cell_type": "code",
      "metadata": {
        "id": "wg92OaiMK8hf"
      },
      "source": [
        "df[['Nom','Prenom']] = df.NOM_CLIENT.str.split(\" \",expand=True,)\n",
        "\n",
        "df[['ID_CLIENT','NOM_CLIENT','Nom','Prenom']].head()"
      ],
      "execution_count": null,
      "outputs": []
    },
    {
      "cell_type": "markdown",
      "metadata": {
        "id": "RRyS8MipLjg-"
      },
      "source": [
        "### Contrôle du champs 'EMAIL' \n",
        "\n",
        "Ajouter le champs 'Valid_Email' pour rejeter les emails non valides"
      ]
    },
    {
      "cell_type": "code",
      "metadata": {
        "id": "zAnThP1tLkLX"
      },
      "source": [
        "regex = r'\\b[A-Za-z0-9._-]+@[A-Za-z0-9.-]+\\.[A-Z|a-z]{2,}\\b'\n",
        "\n",
        "df[['Valid_Email']] = df.EMAIL.str.match(regex)"
      ],
      "execution_count": null,
      "outputs": []
    },
    {
      "cell_type": "markdown",
      "metadata": {
        "id": "1he6ZHWZbw6C"
      },
      "source": [
        "Suppresion des lignes non valide"
      ]
    },
    {
      "cell_type": "code",
      "metadata": {
        "id": "ppPfeeUmMLWd"
      },
      "source": [
        "# selecting rows based on condition\n",
        "df = df.drop(df[df['Valid_Email'] == False].index)\n"
      ],
      "execution_count": null,
      "outputs": []
    },
    {
      "cell_type": "markdown",
      "metadata": {
        "id": "TJQYaeWQaeeZ"
      },
      "source": [
        "### Gestion des doublons"
      ]
    },
    {
      "cell_type": "code",
      "metadata": {
        "id": "lvhi7NAOXRZy"
      },
      "source": [
        "#suppresion des doublons\n",
        "df_doublon = df.drop_duplicates(subset=['ID_CLIENT'],keep = False, inplace = True)\n"
      ],
      "execution_count": null,
      "outputs": []
    },
    {
      "cell_type": "markdown",
      "metadata": {
        "id": "rsiIZnmGb6kH"
      },
      "source": [
        "## Chargement de la BDD"
      ]
    },
    {
      "cell_type": "markdown",
      "metadata": {
        "id": "yiyjm8eecF3X"
      },
      "source": [
        "### Connexion à la bdd"
      ]
    },
    {
      "cell_type": "code",
      "metadata": {
        "id": "GvwRwOBEt-Kh"
      },
      "source": [
        "\n",
        "bdd_conn = sqlite3.connect(\"/content/agence_de_voyage.db\")\n",
        "bdd_conn.text_factory = str \n",
        "cursor = bdd_conn.cursor()"
      ],
      "execution_count": null,
      "outputs": []
    },
    {
      "cell_type": "markdown",
      "metadata": {
        "id": "PyBNp7qmcPBV"
      },
      "source": [
        "### Initialisation des tables cibles"
      ]
    },
    {
      "cell_type": "code",
      "metadata": {
        "id": "EjQgdXAkTgUP"
      },
      "source": [
        "cursor.execute('DELETE FROM Client')\n",
        "bdd_conn.commit()"
      ],
      "execution_count": null,
      "outputs": []
    },
    {
      "cell_type": "markdown",
      "metadata": {
        "id": "6j7_7w-ScXm8"
      },
      "source": [
        "### Alimentation de la table:  ***Client***"
      ]
    },
    {
      "cell_type": "code",
      "metadata": {
        "id": "Uco8APvcQQ-v"
      },
      "source": [
        "query = \"\"\"\n",
        " insert into Client (\n",
        "   id_client \n",
        "   , nom_client \n",
        "   , prenom_client \n",
        "   , date_naissance\n",
        "   ,email\t\n",
        "   , adresse_postale \n",
        "   , code_postal\t\n",
        "   , ville\t\n",
        "   , pays \n",
        "   , num_telephone\n",
        "   )\n",
        "  values (\n",
        "     ? \n",
        "   , ? \n",
        "   , ? \n",
        "   , ?\n",
        "   , ?\t\n",
        "   , ? \n",
        "   , ?\t\n",
        "   , ?\t\n",
        "   , ? \n",
        "   , ?\n",
        "  )\n",
        " \"\"\""
      ],
      "execution_count": null,
      "outputs": []
    },
    {
      "cell_type": "code",
      "metadata": {
        "colab": {
          "base_uri": "https://localhost:8080/"
        },
        "id": "fponMHf-G58F",
        "outputId": "6a1927c5-8d2d-41d9-91e5-bc088ee4e38b"
      },
      "source": [
        "colms = ['ID_CLIENT', 'Nom', 'Prenom', 'DATE_NAIS', 'EMAIL',\n",
        "       'ADDRESS', 'CODE_POSTAL', 'VILLE', 'PAYS' , 'TEL'\n",
        "       ]\n",
        "count=0\n",
        "for i,row in df[colms].iterrows():\n",
        "  cursor.execute(query,tuple([*(row)]))\n",
        "  count+=1\n",
        "\n",
        "print('Nombre d''insertion {} ligne(s)'.format(count))\n",
        "bdd_conn.commit()"
      ],
      "execution_count": null,
      "outputs": [
        {
          "output_type": "stream",
          "name": "stdout",
          "text": [
            "Nombre dinsertion 3674\n"
          ]
        }
      ]
    },
    {
      "cell_type": "code",
      "metadata": {
        "colab": {
          "base_uri": "https://localhost:8080/"
        },
        "id": "I8OkpxWcWXnY",
        "outputId": "04fed5e6-fc6b-4708-8fe9-adb334021a90"
      },
      "source": [
        "query = \"\"\"\n",
        "SELECT  count(*)\n",
        "FROM Client\n",
        "\n",
        "\"\"\"\n",
        "\n",
        "cursor.execute(query)\n",
        "\n",
        "cursor.fetchall()"
      ],
      "execution_count": null,
      "outputs": [
        {
          "output_type": "execute_result",
          "data": {
            "text/plain": [
              "[(3674,)]"
            ]
          },
          "metadata": {},
          "execution_count": 23
        }
      ]
    },
    {
      "cell_type": "code",
      "metadata": {
        "id": "q203EQOSVrWf"
      },
      "source": [
        "bdd_conn.close()"
      ],
      "execution_count": null,
      "outputs": []
    },
    {
      "cell_type": "markdown",
      "metadata": {
        "id": "y3o2shydeZw1"
      },
      "source": [
        "# Partie 2"
      ]
    },
    {
      "cell_type": "code",
      "metadata": {
        "id": "nBgZJlztgV9B"
      },
      "source": [
        "\n",
        "bdd_conn = sqlite3.connect(\"/content/agence_de_voyage.db\")\n",
        "bdd_conn.text_factory = str \n",
        "cursor = bdd_conn.cursor()"
      ],
      "execution_count": null,
      "outputs": []
    },
    {
      "cell_type": "code",
      "metadata": {
        "colab": {
          "base_uri": "https://localhost:8080/",
          "height": 175
        },
        "id": "d8ZXQepXuPc2",
        "outputId": "f3246edc-012b-46e7-c0e4-f5a46906e29e"
      },
      "source": [
        "query = \"\"\"\n",
        "select c.id_client, c.nom_client,c.prenom_client\n",
        ",COUNT(*) as nb_reservation,SUM(t.prix_transport) as total_paiement\n",
        "from client c\n",
        "INNER JOIN Reservation_Transport rt on c.id_client = rt.id_client\n",
        "INNER JOIN transport t on rt.id_transport = t.id_transport \n",
        "GROUP BY c.id_client, c.nom_client,c.prenom_client;\n",
        "\"\"\"\n",
        "cursor.execute(query)\n",
        " \n",
        "df = pd.DataFrame(cursor.fetchall(), columns = ('id_client', 'nom_client', 'prenom_client'\n",
        ", 'nb_reservation','total_paiement'))\n",
        "\n",
        "df"
      ],
      "execution_count": null,
      "outputs": [
        {
          "output_type": "execute_result",
          "data": {
            "text/html": [
              "<div>\n",
              "<style scoped>\n",
              "    .dataframe tbody tr th:only-of-type {\n",
              "        vertical-align: middle;\n",
              "    }\n",
              "\n",
              "    .dataframe tbody tr th {\n",
              "        vertical-align: top;\n",
              "    }\n",
              "\n",
              "    .dataframe thead th {\n",
              "        text-align: right;\n",
              "    }\n",
              "</style>\n",
              "<table border=\"1\" class=\"dataframe\">\n",
              "  <thead>\n",
              "    <tr style=\"text-align: right;\">\n",
              "      <th></th>\n",
              "      <th>id_client</th>\n",
              "      <th>nom_client</th>\n",
              "      <th>prenom_client</th>\n",
              "      <th>nb_reservation</th>\n",
              "      <th>total_paiement</th>\n",
              "    </tr>\n",
              "  </thead>\n",
              "  <tbody>\n",
              "    <tr>\n",
              "      <th>0</th>\n",
              "      <td>29378</td>\n",
              "      <td>Kassovitz</td>\n",
              "      <td>Mathieu</td>\n",
              "      <td>2</td>\n",
              "      <td>386</td>\n",
              "    </tr>\n",
              "    <tr>\n",
              "      <th>1</th>\n",
              "      <td>73382</td>\n",
              "      <td>Potter</td>\n",
              "      <td>Harry</td>\n",
              "      <td>2</td>\n",
              "      <td>319</td>\n",
              "    </tr>\n",
              "    <tr>\n",
              "      <th>2</th>\n",
              "      <td>73834</td>\n",
              "      <td>Tu</td>\n",
              "      <td>Justine</td>\n",
              "      <td>4</td>\n",
              "      <td>1855</td>\n",
              "    </tr>\n",
              "    <tr>\n",
              "      <th>3</th>\n",
              "      <td>73835</td>\n",
              "      <td>Piter</td>\n",
              "      <td>Kenza</td>\n",
              "      <td>2</td>\n",
              "      <td>875</td>\n",
              "    </tr>\n",
              "  </tbody>\n",
              "</table>\n",
              "</div>"
            ],
            "text/plain": [
              "   id_client nom_client prenom_client  nb_reservation  total_paiement\n",
              "0      29378  Kassovitz       Mathieu               2             386\n",
              "1      73382     Potter         Harry               2             319\n",
              "2      73834         Tu       Justine               4            1855\n",
              "3      73835      Piter         Kenza               2             875"
            ]
          },
          "metadata": {},
          "execution_count": 23
        }
      ]
    },
    {
      "cell_type": "code",
      "metadata": {
        "colab": {
          "base_uri": "https://localhost:8080/",
          "height": 614
        },
        "id": "m8ZeMT-QuvFT",
        "outputId": "1f35f76c-4d33-41dd-87dc-b11a5b33e64f"
      },
      "source": [
        "# Extraction du chiffre d'affaire/10K€ mensuel\n",
        "\n",
        "query = \"\"\"\n",
        "SELECT strftime('%Y',date_res) as annee, SUM(montant) AS CA\n",
        "FROM(\n",
        "select rt.idReservationTransport as id_RES, RT.id_client, DATE(t.date_depart) as date_res, t.prix_transport as montant, 'TRANSPORT' as type_res\n",
        "from Reservation_Transport as rt\n",
        "inner JOIN transport t on rt.id_transport = t.id_transport\n",
        "UNION\n",
        "select ra.idReservationActivite as id_RES, RA.id_client , DATE(ra.date_debut) as date_res,p.prix_programme as montant, 'ACTIVITES' as type_res\n",
        "from Reservation_Activite as ra\n",
        "inner join Programme p on ra.id_activite = p.id_programme\n",
        "UNION\n",
        "select rh.idReservationHotel as id_RES, RH.id_client, DATE(rh.date_checkin)as date_res, h.prix_hebergement as montant, 'HOTEL' as type_res\n",
        "from Reservation_Hotel as rh\n",
        "inner join Hebergement h on rh.id_hotel= h.id_hebergement) DATA\n",
        "GROUP BY strftime('%Y',date_res)\n",
        "\"\"\"\n",
        "\n",
        "cursor.execute(query)\n",
        "\n",
        "df = pd.DataFrame(cursor.fetchall(), columns = ('id_res','id_client', 'dat_res', 'montant', 'type_res'))\n",
        "\n",
        "\n",
        "df"
      ],
      "execution_count": null,
      "outputs": [
        {
          "output_type": "execute_result",
          "data": {
            "text/html": [
              "<div>\n",
              "<style scoped>\n",
              "    .dataframe tbody tr th:only-of-type {\n",
              "        vertical-align: middle;\n",
              "    }\n",
              "\n",
              "    .dataframe tbody tr th {\n",
              "        vertical-align: top;\n",
              "    }\n",
              "\n",
              "    .dataframe thead th {\n",
              "        text-align: right;\n",
              "    }\n",
              "</style>\n",
              "<table border=\"1\" class=\"dataframe\">\n",
              "  <thead>\n",
              "    <tr style=\"text-align: right;\">\n",
              "      <th></th>\n",
              "      <th>id_res</th>\n",
              "      <th>id_client</th>\n",
              "      <th>dat_res</th>\n",
              "      <th>montant</th>\n",
              "      <th>type_res</th>\n",
              "    </tr>\n",
              "  </thead>\n",
              "  <tbody>\n",
              "    <tr>\n",
              "      <th>0</th>\n",
              "      <td>293</td>\n",
              "      <td>73835</td>\n",
              "      <td>2022-10-16</td>\n",
              "      <td>50</td>\n",
              "      <td>ACTIVITES</td>\n",
              "    </tr>\n",
              "    <tr>\n",
              "      <th>1</th>\n",
              "      <td>912</td>\n",
              "      <td>73834</td>\n",
              "      <td>2022-10-14</td>\n",
              "      <td>30</td>\n",
              "      <td>ACTIVITES</td>\n",
              "    </tr>\n",
              "    <tr>\n",
              "      <th>2</th>\n",
              "      <td>991</td>\n",
              "      <td>29378</td>\n",
              "      <td>2022-10-17</td>\n",
              "      <td>30</td>\n",
              "      <td>ACTIVITES</td>\n",
              "    </tr>\n",
              "    <tr>\n",
              "      <th>3</th>\n",
              "      <td>1234</td>\n",
              "      <td>73835</td>\n",
              "      <td>2022-11-14</td>\n",
              "      <td>425</td>\n",
              "      <td>TRANSPORT</td>\n",
              "    </tr>\n",
              "    <tr>\n",
              "      <th>4</th>\n",
              "      <td>1235</td>\n",
              "      <td>73835</td>\n",
              "      <td>2022-10-21</td>\n",
              "      <td>450</td>\n",
              "      <td>TRANSPORT</td>\n",
              "    </tr>\n",
              "    <tr>\n",
              "      <th>5</th>\n",
              "      <td>1236</td>\n",
              "      <td>73382</td>\n",
              "      <td>2022-10-15</td>\n",
              "      <td>100</td>\n",
              "      <td>TRANSPORT</td>\n",
              "    </tr>\n",
              "    <tr>\n",
              "      <th>6</th>\n",
              "      <td>1237</td>\n",
              "      <td>73382</td>\n",
              "      <td>2022-10-20</td>\n",
              "      <td>219</td>\n",
              "      <td>TRANSPORT</td>\n",
              "    </tr>\n",
              "    <tr>\n",
              "      <th>7</th>\n",
              "      <td>1238</td>\n",
              "      <td>73834</td>\n",
              "      <td>2022-10-09</td>\n",
              "      <td>755</td>\n",
              "      <td>TRANSPORT</td>\n",
              "    </tr>\n",
              "    <tr>\n",
              "      <th>8</th>\n",
              "      <td>1239</td>\n",
              "      <td>73834</td>\n",
              "      <td>2022-10-10</td>\n",
              "      <td>300</td>\n",
              "      <td>TRANSPORT</td>\n",
              "    </tr>\n",
              "    <tr>\n",
              "      <th>9</th>\n",
              "      <td>1240</td>\n",
              "      <td>73834</td>\n",
              "      <td>2021-10-19</td>\n",
              "      <td>300</td>\n",
              "      <td>TRANSPORT</td>\n",
              "    </tr>\n",
              "    <tr>\n",
              "      <th>10</th>\n",
              "      <td>1241</td>\n",
              "      <td>73834</td>\n",
              "      <td>2021-10-19</td>\n",
              "      <td>500</td>\n",
              "      <td>TRANSPORT</td>\n",
              "    </tr>\n",
              "    <tr>\n",
              "      <th>11</th>\n",
              "      <td>1242</td>\n",
              "      <td>29378</td>\n",
              "      <td>2022-10-14</td>\n",
              "      <td>241</td>\n",
              "      <td>TRANSPORT</td>\n",
              "    </tr>\n",
              "    <tr>\n",
              "      <th>12</th>\n",
              "      <td>1243</td>\n",
              "      <td>29378</td>\n",
              "      <td>2021-10-19</td>\n",
              "      <td>145</td>\n",
              "      <td>TRANSPORT</td>\n",
              "    </tr>\n",
              "    <tr>\n",
              "      <th>13</th>\n",
              "      <td>5516</td>\n",
              "      <td>73834</td>\n",
              "      <td>2022-10-09</td>\n",
              "      <td>540</td>\n",
              "      <td>HOTEL</td>\n",
              "    </tr>\n",
              "    <tr>\n",
              "      <th>14</th>\n",
              "      <td>5517</td>\n",
              "      <td>29378</td>\n",
              "      <td>2022-10-14</td>\n",
              "      <td>110</td>\n",
              "      <td>HOTEL</td>\n",
              "    </tr>\n",
              "    <tr>\n",
              "      <th>15</th>\n",
              "      <td>5518</td>\n",
              "      <td>73835</td>\n",
              "      <td>2022-10-15</td>\n",
              "      <td>868</td>\n",
              "      <td>HOTEL</td>\n",
              "    </tr>\n",
              "    <tr>\n",
              "      <th>16</th>\n",
              "      <td>5519</td>\n",
              "      <td>73382</td>\n",
              "      <td>2022-10-15</td>\n",
              "      <td>150</td>\n",
              "      <td>HOTEL</td>\n",
              "    </tr>\n",
              "    <tr>\n",
              "      <th>17</th>\n",
              "      <td>9283</td>\n",
              "      <td>73834</td>\n",
              "      <td>2022-10-12</td>\n",
              "      <td>30</td>\n",
              "      <td>ACTIVITES</td>\n",
              "    </tr>\n",
              "  </tbody>\n",
              "</table>\n",
              "</div>"
            ],
            "text/plain": [
              "    id_res id_client     dat_res  montant   type_res\n",
              "0      293     73835  2022-10-16       50  ACTIVITES\n",
              "1      912     73834  2022-10-14       30  ACTIVITES\n",
              "2      991     29378  2022-10-17       30  ACTIVITES\n",
              "3     1234     73835  2022-11-14      425  TRANSPORT\n",
              "4     1235     73835  2022-10-21      450  TRANSPORT\n",
              "5     1236     73382  2022-10-15      100  TRANSPORT\n",
              "6     1237     73382  2022-10-20      219  TRANSPORT\n",
              "7     1238     73834  2022-10-09      755  TRANSPORT\n",
              "8     1239     73834  2022-10-10      300  TRANSPORT\n",
              "9     1240     73834  2021-10-19      300  TRANSPORT\n",
              "10    1241     73834  2021-10-19      500  TRANSPORT\n",
              "11    1242     29378  2022-10-14      241  TRANSPORT\n",
              "12    1243     29378  2021-10-19      145  TRANSPORT\n",
              "13    5516     73834  2022-10-09      540      HOTEL\n",
              "14    5517     29378  2022-10-14      110      HOTEL\n",
              "15    5518     73835  2022-10-15      868      HOTEL\n",
              "16    5519     73382  2022-10-15      150      HOTEL\n",
              "17    9283     73834  2022-10-12       30  ACTIVITES"
            ]
          },
          "metadata": {},
          "execution_count": 24
        }
      ]
    },
    {
      "cell_type": "code",
      "metadata": {
        "id": "7FioCPYRIQ2E"
      },
      "source": [
        "#Extraction du chiffre d'affaire/10K€ mensuel \n",
        "query = \"\"\"\n",
        "SELECT strftime('%Y',date_res) as annee, SUM(montant) AS CA\n",
        "FROM(\n",
        "select rt.idReservationTransport as id_RES, RT.id_client\n",
        ", DATE(t.date_depart) as date_res, t.prix_transport as montant\n",
        ", 'TRANSPORT' as type_res\n",
        "from Reservation_Transport as rt\n",
        "inner JOIN transport t on rt.id_transport = t.id_transport\n",
        "UNION\n",
        "select ra.idReservationActivite as id_RES, RA.id_client \n",
        ", DATE(ra.date_debut) as date_res,p.prix_programme as montant\n",
        ", 'ACTIVITES' as type_res\n",
        "from Reservation_Activite as ra\n",
        "inner join Programme p on ra.id_activite = p.id_programme\n",
        "UNION\n",
        "select rh.idReservationHotel as id_RES, RH.id_client, DATE(rh.date_checkin)as date_res\n",
        ", h.prix_hebergement as montant, 'HOTEL' as type_res\n",
        "from Reservation_Hotel as rh\n",
        "inner join Hebergement h on rh.id_hotel= h.id_hebergement) DATA\n",
        "GROUP BY strftime('%Y',date_res)\n",
        "\"\"\"\n",
        "\n",
        "cursor.execute(query)\n",
        "\n",
        "df = pd.DataFrame(cursor.fetchall(), columns = ('Annee','CA'),)\n",
        "\n",
        "\n",
        "df = df.set_index('Annee')\n",
        "\n",
        "df.plot.bar()\n",
        "\n"
      ],
      "execution_count": null,
      "outputs": []
    },
    {
      "cell_type": "code",
      "metadata": {
        "id": "NjO4sbeSMU7D"
      },
      "source": [
        "#Extraction du chiffre d'affaire/10K€ mensuel pour l'année 2021​\n",
        "query = \"\"\"\n",
        "SELECT strftime('%Y-%m',date_res) as Mois, SUM(montant)/10000 AS CA\n",
        "FROM(\n",
        "select rt.idReservationTransport as id_RES, RT.id_client, DATE(t.date_depart) as date_res, t.prix_transport as montant, 'TRANSPORT' as type_res\n",
        "from Reservation_Transport as rt\n",
        "inner JOIN transport t on rt.id_transport = t.id_transport\n",
        "UNION\n",
        "select ra.idReservationActivite as id_RES, RA.id_client , DATE(ra.date_debut) as date_res,p.prix_programme as montant, 'ACTIVITES' as type_res\n",
        "from Reservation_Activite as ra\n",
        "inner join Programme p on ra.id_activite = p.id_programme\n",
        "UNION\n",
        "select rh.idReservationHotel as id_RES, RH.id_client, DATE(rh.date_checkin)as date_res, h.prix_hebergement as montant, 'HOTEL' as type_res\n",
        "from Reservation_Hotel as rh\n",
        "inner join Hebergement h on rh.id_hotel= h.id_hebergement) DATA\n",
        "where strftime('%Y',date_res) = '2021'\n",
        "GROUP BY strftime('%Y-%m',date_res) \n",
        "\"\"\"\n",
        "\n",
        "cursor.execute(query)\n",
        "df = DataFrame(cursor.fetchall(), columns = ('Mois','CA'))\n",
        "df = df.set_index('Mois')\n",
        "df.plot.bar()\n",
        "\n"
      ],
      "execution_count": null,
      "outputs": []
    },
    {
      "cell_type": "code",
      "metadata": {
        "colab": {
          "base_uri": "https://localhost:8080/",
          "height": 438
        },
        "id": "pc35VjZ8gIHg",
        "outputId": "f0780a33-4512-4a2c-fd18-33d8027fe460"
      },
      "source": [
        "#demo :Répartition du nombre des réservations par activités pour l’année 2021\n",
        "query = \"\"\"\n",
        "SELECT  Mois,  CA\n",
        "FROM(\n",
        "SELECT '2021-12'AS MOIS, 10 AS CA\n",
        "UNION\n",
        "SELECT '2021-11'AS MOIS, 11 AS CA\n",
        "UNION\n",
        "SELECT '2021-10'AS MOIS, 10 AS CA\n",
        "UNION\n",
        "SELECT '2021-09'AS MOIS, 6 AS CA\n",
        "UNION\n",
        "SELECT '2021-08'AS MOIS, 19 AS CA\n",
        "UNION\n",
        "SELECT '2021-07'AS MOIS, 25 AS CA\n",
        "UNION\n",
        "SELECT '2021-06'AS MOIS, 10 AS CA\n",
        "UNION\n",
        "SELECT '2021-05'AS MOIS, 20 AS CA\n",
        "UNION\n",
        "SELECT '2021-04'AS MOIS, 15 AS CA\n",
        "UNION\n",
        "SELECT '2021-03'AS MOIS, 10 AS CA\n",
        "UNION\n",
        "SELECT '2021-02'AS MOIS, 8 AS CA\n",
        "UNION\n",
        "SELECT '2021-01'AS MOIS, 10 AS CA\n",
        "\n",
        ") \n",
        "\"\"\"\n",
        "\n",
        "cursor.execute(query)\n",
        "\n",
        "df = pd.DataFrame(cursor.fetchall(), columns = ('Mois','CA'))\n",
        "\n",
        "\n",
        "df = df.set_index('Mois')\n",
        "\n",
        "\n",
        "\n",
        "df.plot.bar(figsize=(15, 6))\n",
        "\n"
      ],
      "execution_count": null,
      "outputs": [
        {
          "output_type": "execute_result",
          "data": {
            "text/plain": [
              "<matplotlib.axes._subplots.AxesSubplot at 0x7fe414053210>"
            ]
          },
          "metadata": {},
          "execution_count": 29
        },
        {
          "output_type": "display_data",
          "data": {
            "image/png": "[encoded data removed]",
            "text/plain": [
              "<Figure size 1080x432 with 1 Axes>"
            ]
          },
          "metadata": {
            "needs_background": "light"
          }
        }
      ]
    },
    {
      "cell_type": "code",
      "metadata": {
        "colab": {
          "base_uri": "https://localhost:8080/",
          "height": 357
        },
        "id": "foh74GjXV8eY",
        "outputId": "0e77efdf-99cd-42bd-cc82-0c82df906ec9"
      },
      "source": [
        "#Répartition du nombre des réservations par activités pour l’année 2021\n",
        "query = \"\"\"\n",
        "select p.nom as activite, count(*) as nb_reservation\n",
        "from Reservation_Activite as ra\n",
        "inner join Programme p on ra.id_activite = p.id_programme\n",
        "where strftime('%Y',ra.date_debut) = '2021'\n",
        "group by nom\n",
        "\"\"\"\n",
        "\n",
        "cursor.execute(query)\n",
        "\n",
        "df = DataFrame(cursor.fetchall(), columns = ('activite','nb_reservation'))\n",
        "df = df.set_index('activite')\n",
        "df.plot.pie(y='nb_reservation',figsize=(6, 6));\n",
        "\n"
      ],
      "execution_count": null,
      "outputs": [
        {
          "output_type": "display_data",
          "data": {
            "image/png": "[encoded data removed]",
            "text/plain": [
              "<Figure size 432x432 with 1 Axes>"
            ]
          },
          "metadata": {}
        }
      ]
    },
    {
      "cell_type": "code",
      "metadata": {
        "colab": {
          "base_uri": "https://localhost:8080/",
          "height": 520
        },
        "id": "U7-QWP1sgxsP",
        "outputId": "eaf84e0c-3cab-4595-e6c3-2d614f0c2807"
      },
      "source": [
        "#demo\n",
        "query = \"\"\"\n",
        "select nom, nb_reservation\n",
        "FROM(\n",
        "select 'Canoe-kayak' as nom, 2244 as nb_reservation\n",
        "union\n",
        "select 'Promenade a cheval' as nom , 542 as nb_reservation\n",
        "union\n",
        "select 'Velo - VTT' as nom , 3742 as nb_reservation\n",
        "union\n",
        "select 'Multi-activites Neige' as nom , 2642 as nb_reservation)\n",
        "\"\"\"\n",
        "\n",
        "cursor.execute(query)\n",
        "\n",
        "df = pd.DataFrame(cursor.fetchall(), columns = ('activite','nb_reservation'))\n",
        "\n",
        "\n",
        "df = df.set_index('activite')\n",
        "\n",
        "\n",
        "\n",
        "df.plot.pie(y='nb_reservation',figsize=(9, 9));"
      ],
      "execution_count": null,
      "outputs": [
        {
          "output_type": "display_data",
          "data": {
            "image/png": "[encoded data removed]",
            "text/plain": [
              "<Figure size 648x648 with 1 Axes>"
            ]
          },
          "metadata": {}
        }
      ]
    },
    {
      "cell_type": "code",
      "metadata": {
        "id": "MwzGXRY0hEXI"
      },
      "source": [
        "bdd_conn.close()"
      ],
      "execution_count": null,
      "outputs": []
    }
  ]
}