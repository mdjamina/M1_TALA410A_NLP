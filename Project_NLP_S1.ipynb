{
  "nbformat": 4,
  "nbformat_minor": 0,
  "metadata": {
    "colab": {
      "name": "Project_Semester_1.ipynb",
      "provenance": [],
      "authorship_tag": "ABX9TyMhtrn4XvdkWJCylTSU/uaU",
      "include_colab_link": true
    },
    "kernelspec": {
      "name": "python3",
      "display_name": "Python 3"
    },
    "language_info": {
      "name": "python"
    }
  },
  "cells": [
    {
      "cell_type": "markdown",
      "metadata": {
        "id": "view-in-github",
        "colab_type": "text"
      },
      "source": [
        "<a href=\"https://colab.research.google.com/github/mdjamina/M1_TALA410A_NLP_PS1/blob/main/Project_NLP_S1.ipynb\" target=\"_parent\"><img src=\"https://colab.research.google.com/assets/colab-badge.svg\" alt=\"Open In Colab\"/></a>"
      ]
    },
    {
      "cell_type": "markdown",
      "source": [
        "# Project Semester 1\n",
        "Estimating a Language Model to Generate Wine Reviews"
      ],
      "metadata": {
        "id": "55giAncQfrk7"
      }
    },
    {
      "cell_type": "markdown",
      "source": [
        "## Estimating the Language Model"
      ],
      "metadata": {
        "id": "cslauT68f1uw"
      }
    },
    {
      "cell_type": "markdown",
      "source": [
        "a. Let $𝑤_{i}$ be the word at the $i^{th}$ position of a sentence. How is the\n",
        "probability of observing the word $𝑤_{!}$ knowing the two previous words $𝑤_{i-1}$ and $𝑤_{i-2}$ estimated ?\n",
        "\n",
        "\n"
      ],
      "metadata": {
        "id": "oBQna0udf7Q6"
      }
    },
    {
      "cell_type": "markdown",
      "source": [
        "$p(w_{i}|w_{i-1},w_{i-2}) = \\frac{p(w_{i},w_{i-1},w_{i-2})}{p(w_{i-1},w_{i-2})}$"
      ],
      "metadata": {
        "id": "Hs0FPQ92rtc3"
      }
    },
    {
      "cell_type": "markdown",
      "source": [
        "b. Write the function `make_trigrams` which returns the list of successive triplets from a string of words.\n",
        "\n",
        "For example, when the string `\"I love chocolate ice-cream.\"` is passed to this function, it should return the list :\n",
        "\n",
        "`[(\"I\", \"love\", \"chocolate\"), (\"love\", \"chocolate\", \"ice-cream\"), (\"chocolate\", \"icecream\",\n",
        "\".\")]`."
      ],
      "metadata": {
        "id": "y4CZXmftqDI5"
      }
    },
    {
      "cell_type": "code",
      "execution_count": 47,
      "metadata": {
        "id": "Q32f3-8MfU6l"
      },
      "outputs": [],
      "source": [
        "def tokenization( text ):\n",
        "    text =text.replace(\"’\",\"'\").replace(\" '\",\"'\")\n",
        "    pre_poncts = ['(', '[', '{','\"','«']\n",
        "    post_poncts = [')', ']', '}', '.', '?', ',', ';', '!', ':','\"','»']\n",
        "    apos = \"'\"\n",
        "    line_tokens = []\n",
        "    for w in text.split():\n",
        "        #print(\"w=\",w)\n",
        "        new_tokens = []\n",
        "        if len( w ) > 0:\n",
        "            \n",
        "            if (w[0] in pre_poncts) and len(w)>1:\n",
        "                new_tokens += [ w[0],  w[1:] ]\n",
        "                \n",
        "            else:\n",
        "               new_tokens += [ w ]\n",
        "\n",
        "            if new_tokens[-1][-1] in post_poncts and len(w)>1:\n",
        "                new_tokens.append( new_tokens[-1][-1])\n",
        "                new_tokens[-2] = new_tokens[-2][0:-1]\n",
        "                #print(\"+post_poncts|\",\"new_token=\",new_tokens)\n",
        "                \n",
        "            line_tokens += new_tokens\n",
        "    return line_tokens\n",
        "\n",
        "\n",
        "def make_trigrams(sent):\n",
        "  words = tokenization(sent)\n",
        "  return [(i,j,k) for (i,j,k) in zip(*[words[i:] for i in range(3)])]\n",
        "\n"
      ]
    },
    {
      "cell_type": "code",
      "source": [
        "sentence = \"I love chocolate ice-cream.\"\n"
      ],
      "metadata": {
        "id": "B_IfpzyfvX3v"
      },
      "execution_count": 48,
      "outputs": []
    },
    {
      "cell_type": "code",
      "source": [
        "make_trigrams(sentence)"
      ],
      "metadata": {
        "colab": {
          "base_uri": "https://localhost:8080/"
        },
        "id": "bDzXaroTymVW",
        "outputId": "e17b70ec-d22c-4e28-a91f-cca62d09d95f"
      },
      "execution_count": 49,
      "outputs": [
        {
          "output_type": "execute_result",
          "data": {
            "text/plain": [
              "[('I', 'love', 'chocolate'),\n",
              " ('love', 'chocolate', 'ice-cream'),\n",
              " ('chocolate', 'ice-cream', '.')]"
            ]
          },
          "metadata": {},
          "execution_count": 49
        }
      ]
    }
  ]
}