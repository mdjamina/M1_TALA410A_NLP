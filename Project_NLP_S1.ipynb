{
  "nbformat": 4,
  "nbformat_minor": 0,
  "metadata": {
    "colab": {
      "name": "Project_NLP_S1.ipynb",
      "provenance": [],
      "authorship_tag": "ABX9TyNSa1GM6quKfwWIN5RlZ+ZL",
      "include_colab_link": true
    },
    "kernelspec": {
      "name": "python3",
      "display_name": "Python 3"
    },
    "language_info": {
      "name": "python"
    }
  },
  "cells": [
    {
      "cell_type": "markdown",
      "metadata": {
        "id": "view-in-github",
        "colab_type": "text"
      },
      "source": [
        "<a href=\"https://colab.research.google.com/github/mdjamina/M1_TALA410A_NLP_PS1/blob/main/Project_NLP_S1.ipynb\" target=\"_parent\"><img src=\"https://colab.research.google.com/assets/colab-badge.svg\" alt=\"Open In Colab\"/></a>"
      ]
    },
    {
      "cell_type": "markdown",
      "source": [
        "**Project Semester 1**\n",
        "\n",
        "Estimating a Language Model to Generate Wine Reviews"
      ],
      "metadata": {
        "id": "55giAncQfrk7"
      }
    },
    {
      "cell_type": "markdown",
      "source": [
        "# 1. Estimating the Language Model"
      ],
      "metadata": {
        "id": "cslauT68f1uw"
      }
    },
    {
      "cell_type": "markdown",
      "source": [
        "## a.\n",
        "\n",
        "$p(w_{i}|w_{i-1},w_{i-2}) = \\frac{p(w_{i},w_{i-1},w_{i-2})}{p(w_{i-1},w_{i-2})}$"
      ],
      "metadata": {
        "id": "oBQna0udf7Q6"
      }
    },
    {
      "cell_type": "markdown",
      "source": [
        "## b.\n"
      ],
      "metadata": {
        "id": "y4CZXmftqDI5"
      }
    },
    {
      "cell_type": "code",
      "execution_count": 1,
      "metadata": {
        "id": "Q32f3-8MfU6l"
      },
      "outputs": [],
      "source": [
        "def tokenization( text ):\n",
        "  \"\"\"\n",
        "\n",
        "  \"\"\"\n",
        "  text =text.replace(\"’\",\"'\").replace(\" '\",\"'\")\n",
        "  pre_poncts = ['(', '[', '{','\"','«']\n",
        "  post_poncts = [')', ']', '}', '.', '?', ',', ';', '!', ':','\"','»']\n",
        "  apos = \"'\"\n",
        "  line_tokens = []\n",
        "  for w in text.split():\n",
        "      #print(\"w=\",w)\n",
        "      new_tokens = []\n",
        "      if len( w ) > 0:\n",
        "          \n",
        "          if (w[0] in pre_poncts) and len(w)>1:\n",
        "              new_tokens += [ w[0],  w[1:] ]\n",
        "              \n",
        "          else:\n",
        "              new_tokens += [ w ]\n",
        "\n",
        "          if new_tokens[-1][-1] in post_poncts and len(w)>1:\n",
        "              new_tokens.append( new_tokens[-1][-1])\n",
        "              new_tokens[-2] = new_tokens[-2][0:-1]\n",
        "              #print(\"+post_poncts|\",\"new_token=\",new_tokens)\n",
        "              \n",
        "          line_tokens += new_tokens\n",
        "  return line_tokens\n",
        "\n",
        "\n",
        "def make_trigrams(sent):\n",
        "  \"\"\"\n",
        "  \n",
        "  \"\"\"\n",
        "\n",
        "  words = tokenization(sent)\n",
        "  return [(i,j,k) for (i,j,k) in zip(*[words[i:] for i in range(3)])]\n",
        "\n"
      ]
    },
    {
      "cell_type": "code",
      "source": [
        "sentence = \"I love chocolate ice-cream.\"\n",
        "make_trigrams(sentence)"
      ],
      "metadata": {
        "id": "B_IfpzyfvX3v",
        "colab": {
          "base_uri": "https://localhost:8080/"
        },
        "outputId": "7cf20c24-1846-4f1f-9923-0790473498bb"
      },
      "execution_count": 2,
      "outputs": [
        {
          "output_type": "execute_result",
          "data": {
            "text/plain": [
              "[('I', 'love', 'chocolate'),\n",
              " ('love', 'chocolate', 'ice-cream'),\n",
              " ('chocolate', 'ice-cream', '.')]"
            ]
          },
          "metadata": {},
          "execution_count": 2
        }
      ]
    },
    {
      "cell_type": "markdown",
      "source": [
        "## c.\n"
      ],
      "metadata": {
        "id": "FEyC6c8R7wD8"
      }
    },
    {
      "cell_type": "code",
      "source": [
        "from collections import defaultdict\n",
        "\n",
        "def trigrams_counter(corpus_path):\n",
        "  \"\"\"\n",
        "\n",
        "  \"\"\"\n",
        "  dict_counter= {}\n",
        "  with open(corpus_path,'r') as corpus:\n",
        "    for line in corpus:\n",
        "    \n",
        "      for ngrams in make_trigrams(line):\n",
        "        key = (ngrams[:2])\n",
        "        value = ngrams[2]\n",
        "        if key not in dict_counter.keys():\n",
        "          dict_counter[key]=defaultdict(int)\n",
        "        \n",
        "        dict_counter[key][value]+=1\n",
        "  return dict_counter"
      ],
      "metadata": {
        "id": "5yxN35liJXno"
      },
      "execution_count": 3,
      "outputs": []
    },
    {
      "cell_type": "code",
      "source": [
        "!wget https://raw.githubusercontent.com/mdjamina/M1_TALA410A_NLP_PS1/main/wine2.txt?token=ASNSFW3R7QGJDUIPB2JOBF3BYDI5M -O wine2.txt"
      ],
      "metadata": {
        "id": "vV6JM4ICiulp",
        "outputId": "6f5ebd6b-9174-4630-d3e9-0e3a5a4c17a7",
        "colab": {
          "base_uri": "https://localhost:8080/"
        }
      },
      "execution_count": 9,
      "outputs": [
        {
          "output_type": "stream",
          "name": "stdout",
          "text": [
            "--2021-12-20 18:55:38--  https://raw.githubusercontent.com/mdjamina/M1_TALA410A_NLP_PS1/main/wine2.txt?token=ASNSFW3R7QGJDUIPB2JOBF3BYDI5M\n",
            "Resolving raw.githubusercontent.com (raw.githubusercontent.com)... 185.199.108.133, 185.199.109.133, 185.199.110.133, ...\n",
            "Connecting to raw.githubusercontent.com (raw.githubusercontent.com)|185.199.108.133|:443... connected.\n",
            "HTTP request sent, awaiting response... 200 OK\n",
            "Length: 2819208 (2.7M) [text/plain]\n",
            "Saving to: ‘wine2.txt’\n",
            "\n",
            "wine2.txt           100%[===================>]   2.69M  --.-KB/s    in 0.05s   \n",
            "\n",
            "2021-12-20 18:55:39 (58.2 MB/s) - ‘wine2.txt’ saved [2819208/2819208]\n",
            "\n"
          ]
        }
      ]
    },
    {
      "cell_type": "code",
      "source": [
        "trigrams_counter('./test_reviews.txt')"
      ],
      "metadata": {
        "colab": {
          "base_uri": "https://localhost:8080/"
        },
        "id": "_XtkkE0UL-w_",
        "outputId": "57187daa-9561-4411-a7bb-1efb599cbf7d"
      },
      "execution_count": null,
      "outputs": [
        {
          "output_type": "execute_result",
          "data": {
            "text/plain": [
              "{('BEGIN', 'NOW'): defaultdict(int, {'I': 2}),\n",
              " ('I', 'do'): defaultdict(int, {'not': 1}),\n",
              " ('I', 'like'): defaultdict(int, {'chocolate': 1}),\n",
              " ('NOW', 'I'): defaultdict(int, {'do': 1, 'like': 1}),\n",
              " ('chocolate', 'ice-cream'): defaultdict(int, {'.': 1}),\n",
              " ('chocolate', 'pudding'): defaultdict(int, {'.': 1}),\n",
              " ('do', 'not'): defaultdict(int, {'like': 1}),\n",
              " ('ice-cream', '.'): defaultdict(int, {'END': 1}),\n",
              " ('like', 'chocolate'): defaultdict(int, {'ice-cream': 1, 'pudding': 1}),\n",
              " ('not', 'like'): defaultdict(int, {'chocolate': 1}),\n",
              " ('pudding', '.'): defaultdict(int, {'END': 1})}"
            ]
          },
          "metadata": {},
          "execution_count": 6
        }
      ]
    },
    {
      "cell_type": "code",
      "source": [
        "def make_conditional_probas(corpus_path):\n",
        "  \"\"\"\n",
        "\n",
        "  \"\"\"\n",
        "  co_proba = {}\n",
        "  dict_corpus = trigrams_counter(corpus_path)\n",
        "\n",
        "  for key in dict_corpus:\n",
        "    count_ab = sum([n for n in dict_corpus[key].values()])\n",
        "    co_proba[key] = { c:count_abc/count_ab for c,count_abc in dict_corpus[key].items() }\n",
        "    \n",
        "  return co_proba"
      ],
      "metadata": {
        "id": "ggjhs_xrUtqk"
      },
      "execution_count": 4,
      "outputs": []
    },
    {
      "cell_type": "code",
      "source": [
        "make_conditional_probas('./test_reviews.txt')"
      ],
      "metadata": {
        "colab": {
          "base_uri": "https://localhost:8080/"
        },
        "id": "-kM1LJzVNCwe",
        "outputId": "7ce7fe5e-e5bb-4849-e061-f85827708649"
      },
      "execution_count": null,
      "outputs": [
        {
          "output_type": "execute_result",
          "data": {
            "text/plain": [
              "{('BEGIN', 'NOW'): {'I': 1.0},\n",
              " ('I', 'do'): {'not': 1.0},\n",
              " ('I', 'like'): {'chocolate': 1.0},\n",
              " ('NOW', 'I'): {'do': 0.5, 'like': 0.5},\n",
              " ('chocolate', 'ice-cream'): {'.': 1.0},\n",
              " ('chocolate', 'pudding'): {'.': 1.0},\n",
              " ('do', 'not'): {'like': 1.0},\n",
              " ('ice-cream', '.'): {'END': 1.0},\n",
              " ('like', 'chocolate'): {'ice-cream': 0.5, 'pudding': 0.5},\n",
              " ('not', 'like'): {'chocolate': 1.0},\n",
              " ('pudding', '.'): {'END': 1.0}}"
            ]
          },
          "metadata": {},
          "execution_count": 8
        }
      ]
    },
    {
      "cell_type": "markdown",
      "source": [
        "## d."
      ],
      "metadata": {
        "id": "4KrqWPUvSaCE"
      }
    },
    {
      "cell_type": "code",
      "source": [
        ""
      ],
      "metadata": {
        "id": "a4KKKX80SZQd"
      },
      "execution_count": null,
      "outputs": []
    },
    {
      "cell_type": "markdown",
      "source": [
        "## 2. Generation"
      ],
      "metadata": {
        "id": "AHHjIWeCSjLk"
      }
    },
    {
      "cell_type": "markdown",
      "source": [
        ""
      ],
      "metadata": {
        "id": "4e_h_ViISn78"
      }
    },
    {
      "cell_type": "code",
      "source": [
        "import numpy as np\n",
        "\n",
        "def sample_from_discrete_distrib(distrib):\n",
        "  words, probas = zip(*distrib.items())\n",
        "  probas = np.asarray(probas).astype('float64')/np.sum(probas)\n",
        "  return np.random.choice(words, p=probas)"
      ],
      "metadata": {
        "id": "cXA1Ocq7S2g6"
      },
      "execution_count": 5,
      "outputs": []
    },
    {
      "cell_type": "markdown",
      "source": [
        "## 1. initialize the history"
      ],
      "metadata": {
        "id": "4_8SO4sMYw3D"
      }
    },
    {
      "cell_type": "code",
      "source": [
        "co_probas = make_conditional_probas('./wine2.txt')\n",
        "\n",
        "sample_from_discrete_distrib(co_probas[('BEGIN', 'NOW')])"
      ],
      "metadata": {
        "id": "aKyqP7VyWHVa",
        "outputId": "6c83ce4d-d108-4376-dbf7-4174ae6abf36",
        "colab": {
          "base_uri": "https://localhost:8080/",
          "height": 35
        }
      },
      "execution_count": 10,
      "outputs": [
        {
          "output_type": "execute_result",
          "data": {
            "application/vnd.google.colaboratory.intrinsic+json": {
              "type": "string"
            },
            "text/plain": [
              "'4079'"
            ]
          },
          "metadata": {},
          "execution_count": 10
        }
      ]
    },
    {
      "cell_type": "markdown",
      "source": [
        "## 2. \n"
      ],
      "metadata": {
        "id": "asKBn1GHY9bC"
      }
    },
    {
      "cell_type": "code",
      "source": [
        "def generate(w_i1,w_i2,conditional_probas):\n",
        "  \"\"\"\n",
        "  \"\"\"\n",
        "  w_i = sample_from_discrete_distrib(conditional_probas[(w_i1, w_i2)])\n",
        "  if w_i=='END' : return []\n",
        "  return [w_i]+( generate(w_i2,w_i,conditional_probas))\n",
        "\n",
        "\n",
        "\n",
        "\n",
        "  "
      ],
      "metadata": {
        "id": "SKZ6lCeSY8mB"
      },
      "execution_count": 36,
      "outputs": []
    },
    {
      "cell_type": "code",
      "source": [
        "[generate('BEGIN','NOW',co_probas)]"
      ],
      "metadata": {
        "id": "nrrfSyMcRJhp",
        "outputId": "aa7408e4-db87-41ed-9c41-347e520deba9",
        "colab": {
          "base_uri": "https://localhost:8080/"
        }
      },
      "execution_count": 38,
      "outputs": [
        {
          "output_type": "execute_result",
          "data": {
            "text/plain": [
              "['4149', 'Daily', 'Wine', 'Picks', 'found', 'in', 'this', 'category', '.']"
            ]
          },
          "metadata": {},
          "execution_count": 38
        }
      ]
    }
  ]
}