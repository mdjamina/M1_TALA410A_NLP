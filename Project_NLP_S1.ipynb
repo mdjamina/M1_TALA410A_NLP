{
  "nbformat": 4,
  "nbformat_minor": 0,
  "metadata": {
    "colab": {
      "name": "Project_NLP_S1.ipynb",
      "provenance": [],
      "authorship_tag": "ABX9TyPfOLH1PVHJy0mLOrxUBIJ+",
      "include_colab_link": true
    },
    "kernelspec": {
      "name": "python3",
      "display_name": "Python 3"
    },
    "language_info": {
      "name": "python"
    }
  },
  "cells": [
    {
      "cell_type": "markdown",
      "metadata": {
        "id": "view-in-github",
        "colab_type": "text"
      },
      "source": [
        "<a href=\"https://colab.research.google.com/github/mdjamina/M1_TALA410A_NLP_PS1/blob/main/Project_NLP_S1.ipynb\" target=\"_parent\"><img src=\"https://colab.research.google.com/assets/colab-badge.svg\" alt=\"Open In Colab\"/></a>"
      ]
    },
    {
      "cell_type": "markdown",
      "source": [
        "**Project Semester 1**\n",
        "\n",
        "Estimating a Language Model to Generate Wine Reviews"
      ],
      "metadata": {
        "id": "55giAncQfrk7"
      }
    },
    {
      "cell_type": "markdown",
      "source": [
        "# 1. Estimating the Language Model"
      ],
      "metadata": {
        "id": "cslauT68f1uw"
      }
    },
    {
      "cell_type": "markdown",
      "source": [
        "## a.\n",
        "\n",
        "$p(w_{i}|w_{i-1},w_{i-2}) = \\frac{p(w_{i},w_{i-1},w_{i-2})}{p(w_{i-1},w_{i-2})}$"
      ],
      "metadata": {
        "id": "oBQna0udf7Q6"
      }
    },
    {
      "cell_type": "markdown",
      "source": [
        "## b.\n"
      ],
      "metadata": {
        "id": "y4CZXmftqDI5"
      }
    },
    {
      "cell_type": "code",
      "execution_count": 1,
      "metadata": {
        "id": "Q32f3-8MfU6l"
      },
      "outputs": [],
      "source": [
        "def tokenization( text ):\n",
        "  \"\"\"\n",
        "\n",
        "  \"\"\"\n",
        "  text =text.replace(\"’\",\"'\").replace(\" '\",\"'\")\n",
        "  pre_poncts = ['(', '[', '{','\"','«']\n",
        "  post_poncts = [')', ']', '}', '.', '?', ',', ';', '!', ':','\"','»']\n",
        "  apos = \"'\"\n",
        "  line_tokens = []\n",
        "  for w in text.split():\n",
        "      #print(\"w=\",w)\n",
        "      new_tokens = []\n",
        "      if len( w ) > 0:\n",
        "          \n",
        "          if (w[0] in pre_poncts) and len(w)>1:\n",
        "              new_tokens += [ w[0],  w[1:] ]\n",
        "              \n",
        "          else:\n",
        "              new_tokens += [ w ]\n",
        "\n",
        "          if new_tokens[-1][-1] in post_poncts and len(w)>1:\n",
        "              new_tokens.append( new_tokens[-1][-1])\n",
        "              new_tokens[-2] = new_tokens[-2][0:-1]\n",
        "              #print(\"+post_poncts|\",\"new_token=\",new_tokens)\n",
        "              \n",
        "          line_tokens += new_tokens\n",
        "  return line_tokens\n",
        "\n",
        "\n",
        "def make_trigrams(sent):\n",
        "  \"\"\"\n",
        "  \n",
        "  \"\"\"\n",
        "\n",
        "  words = tokenization(sent)\n",
        "  return [(i,j,k) for (i,j,k) in zip(*[words[i:] for i in range(3)])]\n",
        "\n"
      ]
    },
    {
      "cell_type": "code",
      "source": [
        "sentence = \"I love chocolate ice-cream.\"\n",
        "make_trigrams(sentence)"
      ],
      "metadata": {
        "id": "B_IfpzyfvX3v",
        "colab": {
          "base_uri": "https://localhost:8080/"
        },
        "outputId": "4fcb0ee7-422c-462f-9bb5-bf08bac85048"
      },
      "execution_count": 46,
      "outputs": [
        {
          "output_type": "execute_result",
          "data": {
            "text/plain": [
              "[('I', 'love', 'chocolate'),\n",
              " ('love', 'chocolate', 'ice-cream'),\n",
              " ('chocolate', 'ice-cream', '.')]"
            ]
          },
          "metadata": {},
          "execution_count": 46
        }
      ]
    },
    {
      "cell_type": "markdown",
      "source": [
        "## c.\n"
      ],
      "metadata": {
        "id": "FEyC6c8R7wD8"
      }
    },
    {
      "cell_type": "code",
      "source": [
        "from collections import defaultdict\n",
        "\n",
        "def trigrams_counter(corpus_path):\n",
        "  \"\"\"\n",
        "\n",
        "  \"\"\"\n",
        "  dict_counter= {}\n",
        "  with open(corpus_path,'r') as corpus:\n",
        "    for line in corpus:\n",
        "    \n",
        "      for ngrams in make_trigrams(line):\n",
        "        key = (ngrams[:2])\n",
        "        value = ngrams[2]\n",
        "        if key not in dict_counter.keys():\n",
        "          dict_counter[key]=defaultdict(int)\n",
        "        \n",
        "        dict_counter[key][value]+=1\n",
        "  return dict_counter"
      ],
      "metadata": {
        "id": "5yxN35liJXno"
      },
      "execution_count": 26,
      "outputs": []
    },
    {
      "cell_type": "code",
      "source": [
        "trigrams_counter('./test_reviews.txt')"
      ],
      "metadata": {
        "colab": {
          "base_uri": "https://localhost:8080/"
        },
        "id": "_XtkkE0UL-w_",
        "outputId": "f5b94ab1-e4c5-441e-860f-c380712770ad"
      },
      "execution_count": 45,
      "outputs": [
        {
          "output_type": "execute_result",
          "data": {
            "text/plain": [
              "{('BEGIN', 'NOW'): defaultdict(int, {'I': 2}),\n",
              " ('I', 'do'): defaultdict(int, {'not': 1}),\n",
              " ('I', 'like'): defaultdict(int, {'chocolate': 1}),\n",
              " ('NOW', 'I'): defaultdict(int, {'do': 1, 'like': 1}),\n",
              " ('chocolate', 'ice-cream'): defaultdict(int, {'.': 1}),\n",
              " ('chocolate', 'pudding'): defaultdict(int, {'.': 1}),\n",
              " ('do', 'not'): defaultdict(int, {'like': 1}),\n",
              " ('ice-cream', '.'): defaultdict(int, {'END': 1}),\n",
              " ('like', 'chocolate'): defaultdict(int, {'ice-cream': 1, 'pudding': 1}),\n",
              " ('not', 'like'): defaultdict(int, {'chocolate': 1}),\n",
              " ('pudding', '.'): defaultdict(int, {'END': 1})}"
            ]
          },
          "metadata": {},
          "execution_count": 45
        }
      ]
    },
    {
      "cell_type": "code",
      "source": [
        "def make_conditional_probas(corpus_path):\n",
        "  \"\"\"\n",
        "\n",
        "  \"\"\"\n",
        "  co_proba = {}\n",
        "  dict_corpus = trigrams_counter(corpus_path)\n",
        "\n",
        "  for key in dict_corpus:\n",
        "    count_ab = sum([n for n in dict_corpus[key].values()])\n",
        "    co_proba[key] = { c:count_abc/count_ab for c,count_abc in dict_corpus[key].items() }\n",
        "    \n",
        "  return co_proba"
      ],
      "metadata": {
        "id": "ggjhs_xrUtqk"
      },
      "execution_count": 56,
      "outputs": []
    },
    {
      "cell_type": "code",
      "source": [
        "make_conditional_probas('./test_reviews.txt')"
      ],
      "metadata": {
        "colab": {
          "base_uri": "https://localhost:8080/"
        },
        "id": "-kM1LJzVNCwe",
        "outputId": "338fc209-5136-45b9-f27d-d8edbc4b2ac2"
      },
      "execution_count": 57,
      "outputs": [
        {
          "output_type": "execute_result",
          "data": {
            "text/plain": [
              "{('BEGIN', 'NOW'): {'I': 1.0},\n",
              " ('I', 'do'): {'not': 1.0},\n",
              " ('I', 'like'): {'chocolate': 1.0},\n",
              " ('NOW', 'I'): {'do': 0.5, 'like': 0.5},\n",
              " ('chocolate', 'ice-cream'): {'.': 1.0},\n",
              " ('chocolate', 'pudding'): {'.': 1.0},\n",
              " ('do', 'not'): {'like': 1.0},\n",
              " ('ice-cream', '.'): {'END': 1.0},\n",
              " ('like', 'chocolate'): {'ice-cream': 0.5, 'pudding': 0.5},\n",
              " ('not', 'like'): {'chocolate': 1.0},\n",
              " ('pudding', '.'): {'END': 1.0}}"
            ]
          },
          "metadata": {},
          "execution_count": 57
        }
      ]
    },
    {
      "cell_type": "markdown",
      "source": [
        "## d."
      ],
      "metadata": {
        "id": "4KrqWPUvSaCE"
      }
    },
    {
      "cell_type": "code",
      "source": [
        ""
      ],
      "metadata": {
        "id": "a4KKKX80SZQd"
      },
      "execution_count": null,
      "outputs": []
    },
    {
      "cell_type": "markdown",
      "source": [
        "## 2. Generation"
      ],
      "metadata": {
        "id": "AHHjIWeCSjLk"
      }
    },
    {
      "cell_type": "markdown",
      "source": [
        ""
      ],
      "metadata": {
        "id": "4e_h_ViISn78"
      }
    },
    {
      "cell_type": "code",
      "source": [
        "import numpy as np\n",
        "\n",
        "def sample_from_discrete_distrib(distrib):\n",
        "  words, probas = zip(*distrib.items())\n",
        "  probas = np.asarray(probas).astype('float64')/np.sum(probas)\n",
        "  return np.random.choice(words, p=probas)"
      ],
      "metadata": {
        "id": "cXA1Ocq7S2g6"
      },
      "execution_count": 80,
      "outputs": []
    },
    {
      "cell_type": "markdown",
      "source": [
        "## 1. initialize the history"
      ],
      "metadata": {
        "id": "4_8SO4sMYw3D"
      }
    },
    {
      "cell_type": "code",
      "source": [
        "dist = make_conditional_probas('./test_reviews.txt')\n",
        "\n",
        "sample_from_discrete_distrib(dist[('BEGIN', 'NOW')])"
      ],
      "metadata": {
        "id": "aKyqP7VyWHVa",
        "outputId": "79ecfe10-f1d8-4a0d-fa3d-bb4b42b2f31f",
        "colab": {
          "base_uri": "https://localhost:8080/",
          "height": 35
        }
      },
      "execution_count": 82,
      "outputs": [
        {
          "output_type": "execute_result",
          "data": {
            "application/vnd.google.colaboratory.intrinsic+json": {
              "type": "string"
            },
            "text/plain": [
              "'I'"
            ]
          },
          "metadata": {},
          "execution_count": 82
        }
      ]
    },
    {
      "cell_type": "markdown",
      "source": [
        "## 2. \n"
      ],
      "metadata": {
        "id": "asKBn1GHY9bC"
      }
    },
    {
      "cell_type": "code",
      "source": [
        "def generate():\n",
        "  pass"
      ],
      "metadata": {
        "id": "SKZ6lCeSY8mB"
      },
      "execution_count": null,
      "outputs": []
    }
  ]
}