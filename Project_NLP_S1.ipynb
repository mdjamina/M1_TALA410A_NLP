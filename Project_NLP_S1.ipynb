{
  "nbformat": 4,
  "nbformat_minor": 0,
  "metadata": {
    "colab": {
      "name": "Project_NLP_S1.ipynb",
      "provenance": [],
      "authorship_tag": "ABX9TyNNTQMv/lLGAO62UWJCT2Rv",
      "include_colab_link": true
    },
    "kernelspec": {
      "name": "python3",
      "display_name": "Python 3"
    },
    "language_info": {
      "name": "python"
    }
  },
  "cells": [
    {
      "cell_type": "markdown",
      "metadata": {
        "id": "view-in-github",
        "colab_type": "text"
      },
      "source": [
        "<a href=\"https://colab.research.google.com/github/mdjamina/M1_TALA410A_NLP_PS1/blob/main/Project_NLP_S1.ipynb\" target=\"_parent\"><img src=\"https://colab.research.google.com/assets/colab-badge.svg\" alt=\"Open In Colab\"/></a>"
      ]
    },
    {
      "cell_type": "markdown",
      "source": [
        "**Project Semester 1**\n",
        "\n",
        "Estimating a Language Model to Generate Wine Reviews"
      ],
      "metadata": {
        "id": "55giAncQfrk7"
      }
    },
    {
      "cell_type": "markdown",
      "source": [
        "# Estimating the Language Model"
      ],
      "metadata": {
        "id": "cslauT68f1uw"
      }
    },
    {
      "cell_type": "markdown",
      "source": [
        "## a.\n",
        "\n",
        "$p(w_{i}|w_{i-1},w_{i-2}) = \\frac{p(w_{i},w_{i-1},w_{i-2})}{p(w_{i-1},w_{i-2})}$"
      ],
      "metadata": {
        "id": "oBQna0udf7Q6"
      }
    },
    {
      "cell_type": "markdown",
      "source": [
        "## b.\n"
      ],
      "metadata": {
        "id": "y4CZXmftqDI5"
      }
    },
    {
      "cell_type": "code",
      "execution_count": 1,
      "metadata": {
        "id": "Q32f3-8MfU6l"
      },
      "outputs": [],
      "source": [
        "def tokenization( text ):\n",
        "    text =text.replace(\"’\",\"'\").replace(\" '\",\"'\")\n",
        "    pre_poncts = ['(', '[', '{','\"','«']\n",
        "    post_poncts = [')', ']', '}', '.', '?', ',', ';', '!', ':','\"','»']\n",
        "    apos = \"'\"\n",
        "    line_tokens = []\n",
        "    for w in text.split():\n",
        "        #print(\"w=\",w)\n",
        "        new_tokens = []\n",
        "        if len( w ) > 0:\n",
        "            \n",
        "            if (w[0] in pre_poncts) and len(w)>1:\n",
        "                new_tokens += [ w[0],  w[1:] ]\n",
        "                \n",
        "            else:\n",
        "               new_tokens += [ w ]\n",
        "\n",
        "            if new_tokens[-1][-1] in post_poncts and len(w)>1:\n",
        "                new_tokens.append( new_tokens[-1][-1])\n",
        "                new_tokens[-2] = new_tokens[-2][0:-1]\n",
        "                #print(\"+post_poncts|\",\"new_token=\",new_tokens)\n",
        "                \n",
        "            line_tokens += new_tokens\n",
        "    return line_tokens\n",
        "\n",
        "\n",
        "def make_trigrams(sent):\n",
        "  words = tokenization(sent)\n",
        "  return [(i,j,k) for (i,j,k) in zip(*[words[i:] for i in range(3)])]\n",
        "\n"
      ]
    },
    {
      "cell_type": "code",
      "source": [
        "sentence = \"I love chocolate ice-cream.\"\n"
      ],
      "metadata": {
        "id": "B_IfpzyfvX3v"
      },
      "execution_count": 2,
      "outputs": []
    },
    {
      "cell_type": "code",
      "source": [
        "make_trigrams(sentence)"
      ],
      "metadata": {
        "colab": {
          "base_uri": "https://localhost:8080/"
        },
        "id": "bDzXaroTymVW",
        "outputId": "7dcb7c67-32db-491c-a1a4-594dd1ec378b"
      },
      "execution_count": 3,
      "outputs": [
        {
          "output_type": "execute_result",
          "data": {
            "text/plain": [
              "[('I', 'love', 'chocolate'),\n",
              " ('love', 'chocolate', 'ice-cream'),\n",
              " ('chocolate', 'ice-cream', '.')]"
            ]
          },
          "metadata": {},
          "execution_count": 3
        }
      ]
    },
    {
      "cell_type": "markdown",
      "source": [
        "## c.\n"
      ],
      "metadata": {
        "id": "FEyC6c8R7wD8"
      }
    },
    {
      "cell_type": "code",
      "source": [
        "from collections import defaultdict"
      ],
      "metadata": {
        "id": "tgGyU15-Bj7h"
      },
      "execution_count": 9,
      "outputs": []
    },
    {
      "cell_type": "code",
      "source": [
        "co_probas= {}\n",
        "for ngrams in make_trigrams(sentence):\n",
        "  key = (ngrams[:2])\n",
        "  value = {ngrams[2]:1}\n",
        "  if key in co_probas.keys():\n",
        "    if ngrams[2] in co_probas[key].keys():\n",
        "      co_probas[key][ngrams[2]]+=1\n",
        "    else:\n",
        "      co_probas[key][ngrams[2]]=1\n",
        "  else:\n",
        "    co_probas[key]=defaultdict(int)\n",
        "    co_probas[key][ngrams[2]]=1\n",
        "\n",
        "\n",
        "co_probas\n",
        "\n",
        "\n"
      ],
      "metadata": {
        "id": "fakH1nEuCI9J",
        "outputId": "79aa7bb2-89c2-4c06-b84d-07357e540d82",
        "colab": {
          "base_uri": "https://localhost:8080/"
        }
      },
      "execution_count": 13,
      "outputs": [
        {
          "output_type": "execute_result",
          "data": {
            "text/plain": [
              "{('I', 'love'): defaultdict(int, {'chocolate': 1}),\n",
              " ('chocolate', 'ice-cream'): defaultdict(int, {'.': 1}),\n",
              " ('love', 'chocolate'): defaultdict(int, {'ice-cream': 1})}"
            ]
          },
          "metadata": {},
          "execution_count": 13
        }
      ]
    },
    {
      "cell_type": "code",
      "source": [
        "{(ngrams[:2]) = defaultdict(list(ngrams[2],1) ) }"
      ],
      "metadata": {
        "id": "z-aepaaO_74C",
        "outputId": "a09ce5d7-5acd-48a2-de35-0db0793057ee",
        "colab": {
          "base_uri": "https://localhost:8080/",
          "height": 217
        }
      },
      "execution_count": 11,
      "outputs": [
        {
          "output_type": "error",
          "ename": "TypeError",
          "evalue": "ignored",
          "traceback": [
            "\u001b[0;31m---------------------------------------------------------------------------\u001b[0m",
            "\u001b[0;31mTypeError\u001b[0m                                 Traceback (most recent call last)",
            "\u001b[0;32m<ipython-input-11-337231664664>\u001b[0m in \u001b[0;36m<module>\u001b[0;34m()\u001b[0m\n\u001b[0;32m----> 1\u001b[0;31m \u001b[0;34m{\u001b[0m\u001b[0;34m(\u001b[0m\u001b[0mngrams\u001b[0m\u001b[0;34m[\u001b[0m\u001b[0;34m:\u001b[0m\u001b[0;36m2\u001b[0m\u001b[0;34m]\u001b[0m\u001b[0;34m)\u001b[0m \u001b[0;34m:\u001b[0m \u001b[0mdefaultdict\u001b[0m\u001b[0;34m(\u001b[0m\u001b[0mlist\u001b[0m\u001b[0;34m(\u001b[0m\u001b[0mngrams\u001b[0m\u001b[0;34m[\u001b[0m\u001b[0;36m2\u001b[0m\u001b[0;34m]\u001b[0m\u001b[0;34m,\u001b[0m\u001b[0;36m1\u001b[0m\u001b[0;34m)\u001b[0m \u001b[0;34m)\u001b[0m \u001b[0;32mfor\u001b[0m \u001b[0mngrams\u001b[0m \u001b[0;32min\u001b[0m \u001b[0mmake_trigrams\u001b[0m\u001b[0;34m(\u001b[0m\u001b[0msentence\u001b[0m\u001b[0;34m)\u001b[0m\u001b[0;34m}\u001b[0m\u001b[0;34m\u001b[0m\u001b[0;34m\u001b[0m\u001b[0m\n\u001b[0m",
            "\u001b[0;32m<ipython-input-11-337231664664>\u001b[0m in \u001b[0;36m<dictcomp>\u001b[0;34m(.0)\u001b[0m\n\u001b[0;32m----> 1\u001b[0;31m \u001b[0;34m{\u001b[0m\u001b[0;34m(\u001b[0m\u001b[0mngrams\u001b[0m\u001b[0;34m[\u001b[0m\u001b[0;34m:\u001b[0m\u001b[0;36m2\u001b[0m\u001b[0;34m]\u001b[0m\u001b[0;34m)\u001b[0m \u001b[0;34m:\u001b[0m \u001b[0mdefaultdict\u001b[0m\u001b[0;34m(\u001b[0m\u001b[0mlist\u001b[0m\u001b[0;34m(\u001b[0m\u001b[0mngrams\u001b[0m\u001b[0;34m[\u001b[0m\u001b[0;36m2\u001b[0m\u001b[0;34m]\u001b[0m\u001b[0;34m,\u001b[0m\u001b[0;36m1\u001b[0m\u001b[0;34m)\u001b[0m \u001b[0;34m)\u001b[0m \u001b[0;32mfor\u001b[0m \u001b[0mngrams\u001b[0m \u001b[0;32min\u001b[0m \u001b[0mmake_trigrams\u001b[0m\u001b[0;34m(\u001b[0m\u001b[0msentence\u001b[0m\u001b[0;34m)\u001b[0m\u001b[0;34m}\u001b[0m\u001b[0;34m\u001b[0m\u001b[0;34m\u001b[0m\u001b[0m\n\u001b[0m",
            "\u001b[0;31mTypeError\u001b[0m: list expected at most 1 arguments, got 2"
          ]
        }
      ]
    },
    {
      "cell_type": "code",
      "source": [
        "def trigrams_counter(corpus_path):\n",
        "  \"\"\"\n",
        "  \n",
        "  \"\"\"\n",
        "  co_probas= {}\n",
        "  with open(corpus_path,'r') as corpus:\n",
        "    for line in corpus:\n",
        "    \n",
        "      for ngrams in make_trigrams(line):\n",
        "        key = (ngrams[:2])\n",
        "        value = ngrams[2]\n",
        "        if key not in co_probas.keys():\n",
        "          co_probas[key]=defaultdict(int)\n",
        "        \n",
        "        co_probas[key][value]+=1\n",
        "  return co_probas"
      ],
      "metadata": {
        "id": "5yxN35liJXno"
      },
      "execution_count": 23,
      "outputs": []
    },
    {
      "cell_type": "code",
      "source": [
        "trigrams_counter('./test_reviews.txt')"
      ],
      "metadata": {
        "id": "_XtkkE0UL-w_",
        "outputId": "d55f9312-6467-456d-a695-8755fb39d606",
        "colab": {
          "base_uri": "https://localhost:8080/"
        }
      },
      "execution_count": 24,
      "outputs": [
        {
          "output_type": "execute_result",
          "data": {
            "text/plain": [
              "{('BEGIN', 'NOW'): defaultdict(int, {'I': 2}),\n",
              " ('I', 'do'): defaultdict(int, {'not': 1}),\n",
              " ('I', 'like'): defaultdict(int, {'chocolate': 1}),\n",
              " ('NOW', 'I'): defaultdict(int, {'do': 1, 'like': 1}),\n",
              " ('chocolate', 'ice-cream'): defaultdict(int, {'.': 1}),\n",
              " ('chocolate', 'pudding'): defaultdict(int, {'.': 1}),\n",
              " ('do', 'not'): defaultdict(int, {'like': 1}),\n",
              " ('ice-cream', '.'): defaultdict(int, {'END': 1}),\n",
              " ('like', 'chocolate'): defaultdict(int, {'ice-cream': 1, 'pudding': 1}),\n",
              " ('not', 'like'): defaultdict(int, {'chocolate': 1}),\n",
              " ('pudding', '.'): defaultdict(int, {'END': 1})}"
            ]
          },
          "metadata": {},
          "execution_count": 24
        }
      ]
    }
  ]
}